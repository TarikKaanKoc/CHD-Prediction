{
 "cells": [
  {
   "cell_type": "markdown",
   "id": "339e3115",
   "metadata": {},
   "source": [
    "# Prediction of CHD Risk in ten years time\n",
    "---\n",
    "\n",
    "The objective of this project is to build a model which predicts if a patient is in risk of a coronary disease in the next ten years base on prevailing data available. The variables in the data set into three categories. **Before mentioning the variables in the data set, it is necessary to first understand the business problem and have an idea.**\n",
    "\n",
    "---\n",
    "## What causes coronary disease?\n",
    "\n",
    "Coronary arterys is the general name of the arteries that feed the heart. When the heart pumps blood to the aorta (the main artery that feeds the whole body), it first feeds itself through the coronary arteries. Coronary artery disease is a condition that occurs as a result of the narrowing and / or occlusion of the coronary vessels feeding the heart, resulting in the deterioration of the nutrition of the heart muscle. It consists of 3 main coronary vessels feeding the heart and the side vessels branching from them. The main coronary vessels supplying the heart are the left anterior descending artery, the left circumflex artery, and the right coronary arteries.\n",
    "\n",
    "---\n",
    "## Causes of coronary heart disease (CHD)?\n",
    "\n",
    "Coronary heart disease is the term that describes what happens when your heart's blood supply is blocked or interrupted by a build-up of fatty substances in the coronary arteries.\n",
    "\n",
    "Atherosclerosis can be caused by lifestyle factors, such as smoking and regularly drinking excessive amounts of alcohol.\n",
    "\n",
    "You're also more at risk of getting coronary if you have conditions like high cholesterol, high blood pressure (hypertension) or diabetes.\n",
    "\n",
    "---\n",
    "[Click to Access the Data Set](https://www.kaggle.com/datasets/jiantay33/coronary-prediction)\n",
    "---\n",
    "\n",
    "---\n",
    "\n",
    "## The variables in the data set into three categories\n",
    "----\n",
    "\n",
    "## Demographics information about patient\n",
    "---\n",
    "* **male :** Gender of patient - 0 = Famle, 1 = Male \n",
    "\n",
    "* **age :** Age of patient\n",
    "\n",
    "* **education :** Education level of patient in ordinal data\n",
    "\n",
    "## Tobacco usage of patient\n",
    "---\n",
    "\n",
    "* **currentSmoker :** information about a patient if he/she is a smoker\n",
    "\n",
    "* **cigsPerDay :** Amount of consumption if patient is a smoker\n",
    "\n",
    "## Health information of patient\n",
    "\n",
    "* **BPMeds :** If a patient is taking BP\n",
    "\n",
    "* **prevalentStroke :** Status of stroke occurance\n",
    "\n",
    "* **prevalentHyp :** Status of prevailing hyper tension\n",
    "\n",
    "* **diabetes :** Status of diabetes\n",
    "\n",
    "* **totChol :** Cholestrol level\n",
    "\n",
    "* **sysBP :** Blood pressure level\n",
    "\n",
    "* **diaBP :** Diastolic blood pressure\n",
    "\n",
    "* **sysBP :** Systolic blood pressure\n",
    "\n",
    "* **BMI :** Body mass Index\n",
    "\n",
    "* **heartRate :** Heart rate reading\n",
    "\n",
    "* **gluscose :** Glucose level\n",
    "\n",
    "* **TenYearCHD :** status if will suffer a risk of coronary disease in next ten years\n",
    "\n",
    "---"
   ]
  },
  {
   "cell_type": "markdown",
   "id": "6594fc57",
   "metadata": {},
   "source": [
    "## Project :"
   ]
  },
  {
   "cell_type": "code",
   "execution_count": 94,
   "id": "13c306d2",
   "metadata": {},
   "outputs": [],
   "source": [
    "# Libraries\n",
    "\n",
    "import numpy as np\n",
    "import pandas as pd\n",
    "import seaborn as sns\n",
    "import plotly.express as px\n",
    "import matplotlib.pyplot as plt\n",
    "\n",
    "\n",
    "# Sklearn Libraries\n",
    "\n",
    "from sklearn.model_selection import train_test_split\n",
    "from sklearn.preprocessing import MinMaxScaler\n",
    "from sklearn.svm import SVC\n",
    "from sklearn.neighbors import KNeighborsClassifier \n",
    "from sklearn.naive_bayes import GaussianNB\n",
    "from sklearn.linear_model import LogisticRegression\n",
    "from sklearn.ensemble import RandomForestClassifier\n",
    "from sklearn.tree import DecisionTreeClassifier\n",
    "from sklearn.metrics import f1_score, accuracy_score\n",
    "\n",
    "\n",
    "# To remove alerts\n",
    "\n",
    "import warnings\n",
    "warnings.filterwarnings(\"ignore\")\n",
    "warnings.warn(\"this will not show\")"
   ]
  },
  {
   "cell_type": "markdown",
   "id": "1499d182",
   "metadata": {},
   "source": [
    "## Data loading\n",
    "**Reading Dataset :**"
   ]
  },
  {
   "cell_type": "code",
   "execution_count": 95,
   "id": "f0706b29",
   "metadata": {
    "scrolled": false
   },
   "outputs": [
    {
     "data": {
      "text/html": [
       "<div>\n",
       "<style scoped>\n",
       "    .dataframe tbody tr th:only-of-type {\n",
       "        vertical-align: middle;\n",
       "    }\n",
       "\n",
       "    .dataframe tbody tr th {\n",
       "        vertical-align: top;\n",
       "    }\n",
       "\n",
       "    .dataframe thead th {\n",
       "        text-align: right;\n",
       "    }\n",
       "</style>\n",
       "<table border=\"1\" class=\"dataframe\">\n",
       "  <thead>\n",
       "    <tr style=\"text-align: right;\">\n",
       "      <th></th>\n",
       "      <th>male</th>\n",
       "      <th>age</th>\n",
       "      <th>education</th>\n",
       "      <th>currentSmoker</th>\n",
       "      <th>cigsPerDay</th>\n",
       "      <th>BPMeds</th>\n",
       "      <th>prevalentStroke</th>\n",
       "      <th>prevalentHyp</th>\n",
       "      <th>diabetes</th>\n",
       "      <th>totChol</th>\n",
       "      <th>sysBP</th>\n",
       "      <th>diaBP</th>\n",
       "      <th>BMI</th>\n",
       "      <th>heartRate</th>\n",
       "      <th>glucose</th>\n",
       "      <th>TenYearCHD</th>\n",
       "    </tr>\n",
       "  </thead>\n",
       "  <tbody>\n",
       "    <tr>\n",
       "      <th>0</th>\n",
       "      <td>1</td>\n",
       "      <td>39</td>\n",
       "      <td>4.0</td>\n",
       "      <td>0</td>\n",
       "      <td>0.0</td>\n",
       "      <td>0.0</td>\n",
       "      <td>0</td>\n",
       "      <td>0</td>\n",
       "      <td>0</td>\n",
       "      <td>195.0</td>\n",
       "      <td>106.0</td>\n",
       "      <td>70.0</td>\n",
       "      <td>26.97</td>\n",
       "      <td>80.0</td>\n",
       "      <td>77.0</td>\n",
       "      <td>0</td>\n",
       "    </tr>\n",
       "    <tr>\n",
       "      <th>1</th>\n",
       "      <td>0</td>\n",
       "      <td>46</td>\n",
       "      <td>2.0</td>\n",
       "      <td>0</td>\n",
       "      <td>0.0</td>\n",
       "      <td>0.0</td>\n",
       "      <td>0</td>\n",
       "      <td>0</td>\n",
       "      <td>0</td>\n",
       "      <td>250.0</td>\n",
       "      <td>121.0</td>\n",
       "      <td>81.0</td>\n",
       "      <td>28.73</td>\n",
       "      <td>95.0</td>\n",
       "      <td>76.0</td>\n",
       "      <td>0</td>\n",
       "    </tr>\n",
       "    <tr>\n",
       "      <th>2</th>\n",
       "      <td>1</td>\n",
       "      <td>48</td>\n",
       "      <td>1.0</td>\n",
       "      <td>1</td>\n",
       "      <td>20.0</td>\n",
       "      <td>0.0</td>\n",
       "      <td>0</td>\n",
       "      <td>0</td>\n",
       "      <td>0</td>\n",
       "      <td>245.0</td>\n",
       "      <td>127.5</td>\n",
       "      <td>80.0</td>\n",
       "      <td>25.34</td>\n",
       "      <td>75.0</td>\n",
       "      <td>70.0</td>\n",
       "      <td>0</td>\n",
       "    </tr>\n",
       "    <tr>\n",
       "      <th>3</th>\n",
       "      <td>0</td>\n",
       "      <td>61</td>\n",
       "      <td>3.0</td>\n",
       "      <td>1</td>\n",
       "      <td>30.0</td>\n",
       "      <td>0.0</td>\n",
       "      <td>0</td>\n",
       "      <td>1</td>\n",
       "      <td>0</td>\n",
       "      <td>225.0</td>\n",
       "      <td>150.0</td>\n",
       "      <td>95.0</td>\n",
       "      <td>28.58</td>\n",
       "      <td>65.0</td>\n",
       "      <td>103.0</td>\n",
       "      <td>1</td>\n",
       "    </tr>\n",
       "    <tr>\n",
       "      <th>4</th>\n",
       "      <td>0</td>\n",
       "      <td>46</td>\n",
       "      <td>3.0</td>\n",
       "      <td>1</td>\n",
       "      <td>23.0</td>\n",
       "      <td>0.0</td>\n",
       "      <td>0</td>\n",
       "      <td>0</td>\n",
       "      <td>0</td>\n",
       "      <td>285.0</td>\n",
       "      <td>130.0</td>\n",
       "      <td>84.0</td>\n",
       "      <td>23.10</td>\n",
       "      <td>85.0</td>\n",
       "      <td>85.0</td>\n",
       "      <td>0</td>\n",
       "    </tr>\n",
       "    <tr>\n",
       "      <th>...</th>\n",
       "      <td>...</td>\n",
       "      <td>...</td>\n",
       "      <td>...</td>\n",
       "      <td>...</td>\n",
       "      <td>...</td>\n",
       "      <td>...</td>\n",
       "      <td>...</td>\n",
       "      <td>...</td>\n",
       "      <td>...</td>\n",
       "      <td>...</td>\n",
       "      <td>...</td>\n",
       "      <td>...</td>\n",
       "      <td>...</td>\n",
       "      <td>...</td>\n",
       "      <td>...</td>\n",
       "      <td>...</td>\n",
       "    </tr>\n",
       "    <tr>\n",
       "      <th>4233</th>\n",
       "      <td>1</td>\n",
       "      <td>50</td>\n",
       "      <td>1.0</td>\n",
       "      <td>1</td>\n",
       "      <td>1.0</td>\n",
       "      <td>0.0</td>\n",
       "      <td>0</td>\n",
       "      <td>1</td>\n",
       "      <td>0</td>\n",
       "      <td>313.0</td>\n",
       "      <td>179.0</td>\n",
       "      <td>92.0</td>\n",
       "      <td>25.97</td>\n",
       "      <td>66.0</td>\n",
       "      <td>86.0</td>\n",
       "      <td>1</td>\n",
       "    </tr>\n",
       "    <tr>\n",
       "      <th>4234</th>\n",
       "      <td>1</td>\n",
       "      <td>51</td>\n",
       "      <td>3.0</td>\n",
       "      <td>1</td>\n",
       "      <td>43.0</td>\n",
       "      <td>0.0</td>\n",
       "      <td>0</td>\n",
       "      <td>0</td>\n",
       "      <td>0</td>\n",
       "      <td>207.0</td>\n",
       "      <td>126.5</td>\n",
       "      <td>80.0</td>\n",
       "      <td>19.71</td>\n",
       "      <td>65.0</td>\n",
       "      <td>68.0</td>\n",
       "      <td>0</td>\n",
       "    </tr>\n",
       "    <tr>\n",
       "      <th>4235</th>\n",
       "      <td>0</td>\n",
       "      <td>48</td>\n",
       "      <td>2.0</td>\n",
       "      <td>1</td>\n",
       "      <td>20.0</td>\n",
       "      <td>NaN</td>\n",
       "      <td>0</td>\n",
       "      <td>0</td>\n",
       "      <td>0</td>\n",
       "      <td>248.0</td>\n",
       "      <td>131.0</td>\n",
       "      <td>72.0</td>\n",
       "      <td>22.00</td>\n",
       "      <td>84.0</td>\n",
       "      <td>86.0</td>\n",
       "      <td>0</td>\n",
       "    </tr>\n",
       "    <tr>\n",
       "      <th>4236</th>\n",
       "      <td>0</td>\n",
       "      <td>44</td>\n",
       "      <td>1.0</td>\n",
       "      <td>1</td>\n",
       "      <td>15.0</td>\n",
       "      <td>0.0</td>\n",
       "      <td>0</td>\n",
       "      <td>0</td>\n",
       "      <td>0</td>\n",
       "      <td>210.0</td>\n",
       "      <td>126.5</td>\n",
       "      <td>87.0</td>\n",
       "      <td>19.16</td>\n",
       "      <td>86.0</td>\n",
       "      <td>NaN</td>\n",
       "      <td>0</td>\n",
       "    </tr>\n",
       "    <tr>\n",
       "      <th>4237</th>\n",
       "      <td>0</td>\n",
       "      <td>52</td>\n",
       "      <td>2.0</td>\n",
       "      <td>0</td>\n",
       "      <td>0.0</td>\n",
       "      <td>0.0</td>\n",
       "      <td>0</td>\n",
       "      <td>0</td>\n",
       "      <td>0</td>\n",
       "      <td>269.0</td>\n",
       "      <td>133.5</td>\n",
       "      <td>83.0</td>\n",
       "      <td>21.47</td>\n",
       "      <td>80.0</td>\n",
       "      <td>107.0</td>\n",
       "      <td>0</td>\n",
       "    </tr>\n",
       "  </tbody>\n",
       "</table>\n",
       "<p>4238 rows × 16 columns</p>\n",
       "</div>"
      ],
      "text/plain": [
       "      male  age  education  currentSmoker  cigsPerDay  BPMeds  \\\n",
       "0        1   39        4.0              0         0.0     0.0   \n",
       "1        0   46        2.0              0         0.0     0.0   \n",
       "2        1   48        1.0              1        20.0     0.0   \n",
       "3        0   61        3.0              1        30.0     0.0   \n",
       "4        0   46        3.0              1        23.0     0.0   \n",
       "...    ...  ...        ...            ...         ...     ...   \n",
       "4233     1   50        1.0              1         1.0     0.0   \n",
       "4234     1   51        3.0              1        43.0     0.0   \n",
       "4235     0   48        2.0              1        20.0     NaN   \n",
       "4236     0   44        1.0              1        15.0     0.0   \n",
       "4237     0   52        2.0              0         0.0     0.0   \n",
       "\n",
       "      prevalentStroke  prevalentHyp  diabetes  totChol  sysBP  diaBP    BMI  \\\n",
       "0                   0             0         0    195.0  106.0   70.0  26.97   \n",
       "1                   0             0         0    250.0  121.0   81.0  28.73   \n",
       "2                   0             0         0    245.0  127.5   80.0  25.34   \n",
       "3                   0             1         0    225.0  150.0   95.0  28.58   \n",
       "4                   0             0         0    285.0  130.0   84.0  23.10   \n",
       "...               ...           ...       ...      ...    ...    ...    ...   \n",
       "4233                0             1         0    313.0  179.0   92.0  25.97   \n",
       "4234                0             0         0    207.0  126.5   80.0  19.71   \n",
       "4235                0             0         0    248.0  131.0   72.0  22.00   \n",
       "4236                0             0         0    210.0  126.5   87.0  19.16   \n",
       "4237                0             0         0    269.0  133.5   83.0  21.47   \n",
       "\n",
       "      heartRate  glucose  TenYearCHD  \n",
       "0          80.0     77.0           0  \n",
       "1          95.0     76.0           0  \n",
       "2          75.0     70.0           0  \n",
       "3          65.0    103.0           1  \n",
       "4          85.0     85.0           0  \n",
       "...         ...      ...         ...  \n",
       "4233       66.0     86.0           1  \n",
       "4234       65.0     68.0           0  \n",
       "4235       84.0     86.0           0  \n",
       "4236       86.0      NaN           0  \n",
       "4237       80.0    107.0           0  \n",
       "\n",
       "[4238 rows x 16 columns]"
      ]
     },
     "execution_count": 95,
     "metadata": {},
     "output_type": "execute_result"
    }
   ],
   "source": [
    "df = pd.read_csv('coronary_prediction.csv')\n",
    "df"
   ]
  },
  {
   "cell_type": "markdown",
   "id": "86b10de1",
   "metadata": {},
   "source": [
    "---\n",
    "<h1><center>Exploratory Data Analysis; EDA</center></h1>\n",
    "\n",
    " \n",
    "---"
   ]
  },
  {
   "cell_type": "code",
   "execution_count": 96,
   "id": "2916bd76",
   "metadata": {},
   "outputs": [
    {
     "data": {
      "text/plain": [
       "(4238, 16)"
      ]
     },
     "execution_count": 96,
     "metadata": {},
     "output_type": "execute_result"
    }
   ],
   "source": [
    "df.shape"
   ]
  },
  {
   "cell_type": "code",
   "execution_count": 97,
   "id": "466c6535",
   "metadata": {},
   "outputs": [
    {
     "name": "stdout",
     "output_type": "stream",
     "text": [
      "<class 'pandas.core.frame.DataFrame'>\n",
      "RangeIndex: 4238 entries, 0 to 4237\n",
      "Data columns (total 16 columns):\n",
      " #   Column           Non-Null Count  Dtype  \n",
      "---  ------           --------------  -----  \n",
      " 0   male             4238 non-null   int64  \n",
      " 1   age              4238 non-null   int64  \n",
      " 2   education        4133 non-null   float64\n",
      " 3   currentSmoker    4238 non-null   int64  \n",
      " 4   cigsPerDay       4209 non-null   float64\n",
      " 5   BPMeds           4185 non-null   float64\n",
      " 6   prevalentStroke  4238 non-null   int64  \n",
      " 7   prevalentHyp     4238 non-null   int64  \n",
      " 8   diabetes         4238 non-null   int64  \n",
      " 9   totChol          4188 non-null   float64\n",
      " 10  sysBP            4238 non-null   float64\n",
      " 11  diaBP            4238 non-null   float64\n",
      " 12  BMI              4219 non-null   float64\n",
      " 13  heartRate        4237 non-null   float64\n",
      " 14  glucose          3850 non-null   float64\n",
      " 15  TenYearCHD       4238 non-null   int64  \n",
      "dtypes: float64(9), int64(7)\n",
      "memory usage: 529.9 KB\n"
     ]
    }
   ],
   "source": [
    "df.info()"
   ]
  },
  {
   "cell_type": "code",
   "execution_count": 98,
   "id": "430c9e5d",
   "metadata": {
    "scrolled": true
   },
   "outputs": [
    {
     "data": {
      "text/html": [
       "<div>\n",
       "<style scoped>\n",
       "    .dataframe tbody tr th:only-of-type {\n",
       "        vertical-align: middle;\n",
       "    }\n",
       "\n",
       "    .dataframe tbody tr th {\n",
       "        vertical-align: top;\n",
       "    }\n",
       "\n",
       "    .dataframe thead th {\n",
       "        text-align: right;\n",
       "    }\n",
       "</style>\n",
       "<table border=\"1\" class=\"dataframe\">\n",
       "  <thead>\n",
       "    <tr style=\"text-align: right;\">\n",
       "      <th></th>\n",
       "      <th>count</th>\n",
       "      <th>mean</th>\n",
       "      <th>std</th>\n",
       "      <th>min</th>\n",
       "      <th>25%</th>\n",
       "      <th>50%</th>\n",
       "      <th>75%</th>\n",
       "      <th>max</th>\n",
       "    </tr>\n",
       "  </thead>\n",
       "  <tbody>\n",
       "    <tr>\n",
       "      <th>male</th>\n",
       "      <td>4238.0</td>\n",
       "      <td>0.429212</td>\n",
       "      <td>0.495022</td>\n",
       "      <td>0.00</td>\n",
       "      <td>0.00</td>\n",
       "      <td>0.0</td>\n",
       "      <td>1.000</td>\n",
       "      <td>1.0</td>\n",
       "    </tr>\n",
       "    <tr>\n",
       "      <th>age</th>\n",
       "      <td>4238.0</td>\n",
       "      <td>49.584946</td>\n",
       "      <td>8.572160</td>\n",
       "      <td>32.00</td>\n",
       "      <td>42.00</td>\n",
       "      <td>49.0</td>\n",
       "      <td>56.000</td>\n",
       "      <td>70.0</td>\n",
       "    </tr>\n",
       "    <tr>\n",
       "      <th>education</th>\n",
       "      <td>4133.0</td>\n",
       "      <td>1.978950</td>\n",
       "      <td>1.019791</td>\n",
       "      <td>1.00</td>\n",
       "      <td>1.00</td>\n",
       "      <td>2.0</td>\n",
       "      <td>3.000</td>\n",
       "      <td>4.0</td>\n",
       "    </tr>\n",
       "    <tr>\n",
       "      <th>currentSmoker</th>\n",
       "      <td>4238.0</td>\n",
       "      <td>0.494101</td>\n",
       "      <td>0.500024</td>\n",
       "      <td>0.00</td>\n",
       "      <td>0.00</td>\n",
       "      <td>0.0</td>\n",
       "      <td>1.000</td>\n",
       "      <td>1.0</td>\n",
       "    </tr>\n",
       "    <tr>\n",
       "      <th>cigsPerDay</th>\n",
       "      <td>4209.0</td>\n",
       "      <td>9.003089</td>\n",
       "      <td>11.920094</td>\n",
       "      <td>0.00</td>\n",
       "      <td>0.00</td>\n",
       "      <td>0.0</td>\n",
       "      <td>20.000</td>\n",
       "      <td>70.0</td>\n",
       "    </tr>\n",
       "    <tr>\n",
       "      <th>BPMeds</th>\n",
       "      <td>4185.0</td>\n",
       "      <td>0.029630</td>\n",
       "      <td>0.169584</td>\n",
       "      <td>0.00</td>\n",
       "      <td>0.00</td>\n",
       "      <td>0.0</td>\n",
       "      <td>0.000</td>\n",
       "      <td>1.0</td>\n",
       "    </tr>\n",
       "    <tr>\n",
       "      <th>prevalentStroke</th>\n",
       "      <td>4238.0</td>\n",
       "      <td>0.005899</td>\n",
       "      <td>0.076587</td>\n",
       "      <td>0.00</td>\n",
       "      <td>0.00</td>\n",
       "      <td>0.0</td>\n",
       "      <td>0.000</td>\n",
       "      <td>1.0</td>\n",
       "    </tr>\n",
       "    <tr>\n",
       "      <th>prevalentHyp</th>\n",
       "      <td>4238.0</td>\n",
       "      <td>0.310524</td>\n",
       "      <td>0.462763</td>\n",
       "      <td>0.00</td>\n",
       "      <td>0.00</td>\n",
       "      <td>0.0</td>\n",
       "      <td>1.000</td>\n",
       "      <td>1.0</td>\n",
       "    </tr>\n",
       "    <tr>\n",
       "      <th>diabetes</th>\n",
       "      <td>4238.0</td>\n",
       "      <td>0.025720</td>\n",
       "      <td>0.158316</td>\n",
       "      <td>0.00</td>\n",
       "      <td>0.00</td>\n",
       "      <td>0.0</td>\n",
       "      <td>0.000</td>\n",
       "      <td>1.0</td>\n",
       "    </tr>\n",
       "    <tr>\n",
       "      <th>totChol</th>\n",
       "      <td>4188.0</td>\n",
       "      <td>236.721585</td>\n",
       "      <td>44.590334</td>\n",
       "      <td>107.00</td>\n",
       "      <td>206.00</td>\n",
       "      <td>234.0</td>\n",
       "      <td>263.000</td>\n",
       "      <td>696.0</td>\n",
       "    </tr>\n",
       "    <tr>\n",
       "      <th>sysBP</th>\n",
       "      <td>4238.0</td>\n",
       "      <td>132.352407</td>\n",
       "      <td>22.038097</td>\n",
       "      <td>83.50</td>\n",
       "      <td>117.00</td>\n",
       "      <td>128.0</td>\n",
       "      <td>144.000</td>\n",
       "      <td>295.0</td>\n",
       "    </tr>\n",
       "    <tr>\n",
       "      <th>diaBP</th>\n",
       "      <td>4238.0</td>\n",
       "      <td>82.893464</td>\n",
       "      <td>11.910850</td>\n",
       "      <td>48.00</td>\n",
       "      <td>75.00</td>\n",
       "      <td>82.0</td>\n",
       "      <td>89.875</td>\n",
       "      <td>142.5</td>\n",
       "    </tr>\n",
       "    <tr>\n",
       "      <th>BMI</th>\n",
       "      <td>4219.0</td>\n",
       "      <td>25.802008</td>\n",
       "      <td>4.080111</td>\n",
       "      <td>15.54</td>\n",
       "      <td>23.07</td>\n",
       "      <td>25.4</td>\n",
       "      <td>28.040</td>\n",
       "      <td>56.8</td>\n",
       "    </tr>\n",
       "    <tr>\n",
       "      <th>heartRate</th>\n",
       "      <td>4237.0</td>\n",
       "      <td>75.878924</td>\n",
       "      <td>12.026596</td>\n",
       "      <td>44.00</td>\n",
       "      <td>68.00</td>\n",
       "      <td>75.0</td>\n",
       "      <td>83.000</td>\n",
       "      <td>143.0</td>\n",
       "    </tr>\n",
       "    <tr>\n",
       "      <th>glucose</th>\n",
       "      <td>3850.0</td>\n",
       "      <td>81.966753</td>\n",
       "      <td>23.959998</td>\n",
       "      <td>40.00</td>\n",
       "      <td>71.00</td>\n",
       "      <td>78.0</td>\n",
       "      <td>87.000</td>\n",
       "      <td>394.0</td>\n",
       "    </tr>\n",
       "    <tr>\n",
       "      <th>TenYearCHD</th>\n",
       "      <td>4238.0</td>\n",
       "      <td>0.151958</td>\n",
       "      <td>0.359023</td>\n",
       "      <td>0.00</td>\n",
       "      <td>0.00</td>\n",
       "      <td>0.0</td>\n",
       "      <td>0.000</td>\n",
       "      <td>1.0</td>\n",
       "    </tr>\n",
       "  </tbody>\n",
       "</table>\n",
       "</div>"
      ],
      "text/plain": [
       "                  count        mean        std     min     25%    50%  \\\n",
       "male             4238.0    0.429212   0.495022    0.00    0.00    0.0   \n",
       "age              4238.0   49.584946   8.572160   32.00   42.00   49.0   \n",
       "education        4133.0    1.978950   1.019791    1.00    1.00    2.0   \n",
       "currentSmoker    4238.0    0.494101   0.500024    0.00    0.00    0.0   \n",
       "cigsPerDay       4209.0    9.003089  11.920094    0.00    0.00    0.0   \n",
       "BPMeds           4185.0    0.029630   0.169584    0.00    0.00    0.0   \n",
       "prevalentStroke  4238.0    0.005899   0.076587    0.00    0.00    0.0   \n",
       "prevalentHyp     4238.0    0.310524   0.462763    0.00    0.00    0.0   \n",
       "diabetes         4238.0    0.025720   0.158316    0.00    0.00    0.0   \n",
       "totChol          4188.0  236.721585  44.590334  107.00  206.00  234.0   \n",
       "sysBP            4238.0  132.352407  22.038097   83.50  117.00  128.0   \n",
       "diaBP            4238.0   82.893464  11.910850   48.00   75.00   82.0   \n",
       "BMI              4219.0   25.802008   4.080111   15.54   23.07   25.4   \n",
       "heartRate        4237.0   75.878924  12.026596   44.00   68.00   75.0   \n",
       "glucose          3850.0   81.966753  23.959998   40.00   71.00   78.0   \n",
       "TenYearCHD       4238.0    0.151958   0.359023    0.00    0.00    0.0   \n",
       "\n",
       "                     75%    max  \n",
       "male               1.000    1.0  \n",
       "age               56.000   70.0  \n",
       "education          3.000    4.0  \n",
       "currentSmoker      1.000    1.0  \n",
       "cigsPerDay        20.000   70.0  \n",
       "BPMeds             0.000    1.0  \n",
       "prevalentStroke    0.000    1.0  \n",
       "prevalentHyp       1.000    1.0  \n",
       "diabetes           0.000    1.0  \n",
       "totChol          263.000  696.0  \n",
       "sysBP            144.000  295.0  \n",
       "diaBP             89.875  142.5  \n",
       "BMI               28.040   56.8  \n",
       "heartRate         83.000  143.0  \n",
       "glucose           87.000  394.0  \n",
       "TenYearCHD         0.000    1.0  "
      ]
     },
     "execution_count": 98,
     "metadata": {},
     "output_type": "execute_result"
    }
   ],
   "source": [
    "# Descriptive statistics\n",
    "df.describe().T"
   ]
  },
  {
   "cell_type": "markdown",
   "id": "d63fea7b",
   "metadata": {},
   "source": [
    "---\n",
    "\n",
    "# Types Of Features\n",
    "---\n",
    "### Nominal Features :\n",
    "\n",
    "A categorical variable is one that has two or more categories and each value in that feature can be categorised by them.For example, gender is a categorical variable having two categories (male and female). Now we cannot sort or give any ordering to such variables. They are also known as **Nominal Variables.**\n",
    "\n",
    "**Nominal variables in the dataset :** male, currentSmoker, BPMeds, prevalentStroke, diabetes, prevalentHyp\n",
    " \n",
    "---\n",
    "### Ordinal Features :\n",
    "\n",
    "An ordinal variable is similar to categorical values, but the difference between them is that we can have relative ordering or sorting between the values. For eg: If we have a feature like Height with values Tall, Medium, Short, then Height **is a ordinal variable.** Here we can have a relative sort in the variable.\n",
    "\n",
    "**Ordinal variables in the dataset :** education\n",
    "\n",
    "---\n",
    "### Continous Features :\n",
    "\n",
    "A feature is said to be continous if it can take values between any two points or between the minimum or maximum values in the features column.\n",
    "\n",
    "**Continous variables in the dataset :** age, totChol, glucose, heartRate, BMI, diaBP, sysBP, cigsPerDay\n",
    "\n",
    "---\n",
    "### Target Variable :\n",
    "\n",
    "The target variable of a dataset is the feature of a dataset about which you want to gain a deeper understanding. A supervised machine learning algorithm uses historical data to learn patterns and uncover relationships between other features of your dataset and the target.\n",
    "\n",
    "\n",
    "**Target variable in the dataset :** TenYearCHD\n",
    "\n",
    "---"
   ]
  },
  {
   "cell_type": "markdown",
   "id": "af830400",
   "metadata": {},
   "source": [
    "# Analysing The Features\n",
    "---"
   ]
  },
  {
   "cell_type": "code",
   "execution_count": 99,
   "id": "26efecbc",
   "metadata": {},
   "outputs": [],
   "source": [
    "# Continous Feature ---> Age "
   ]
  },
  {
   "cell_type": "code",
   "execution_count": 100,
   "id": "5d64bfa6",
   "metadata": {},
   "outputs": [
    {
     "name": "stdout",
     "output_type": "stream",
     "text": [
      "Oldest Patient -Female/Male- in Dataset :\n",
      "       age\n",
      "male     \n",
      "0      70\n",
      "1      69\n",
      "-----------------------------------------------\n",
      "Youngest Patient -Female/Male- in the Dataset :\n",
      "       age\n",
      "male     \n",
      "0      32\n",
      "1      33\n",
      "--------------------------------------------------\n",
      "Average Age of Patients in Dataset - Female/Male :\n",
      "             age\n",
      "male           \n",
      "0     49.800331\n",
      "1     49.298516\n"
     ]
    }
   ],
   "source": [
    "print('Oldest Patient -Female/Male- in Dataset :\\n', df.groupby(['male'])[['age']].max())\n",
    "print('-----------------------------------------------')\n",
    "print('Youngest Patient -Female/Male- in the Dataset :\\n',df.groupby(['male'])[['age']].min())\n",
    "print('--------------------------------------------------')\n",
    "print('Average Age of Patients in Dataset - Female/Male :\\n', df.groupby(['male'])[['age']].mean())"
   ]
  },
  {
   "cell_type": "code",
   "execution_count": 101,
   "id": "3094311c",
   "metadata": {},
   "outputs": [],
   "source": [
    "# Age Distribution Examining"
   ]
  },
  {
   "cell_type": "code",
   "execution_count": 102,
   "id": "9787826d",
   "metadata": {
    "scrolled": false
   },
   "outputs": [
    {
     "data": {
      "image/png": "[encoded data removed]",
      "text/plain": [
       "<Figure size 1152x432 with 1 Axes>"
      ]
     },
     "metadata": {
      "needs_background": "light"
     },
     "output_type": "display_data"
    }
   ],
   "source": [
    "plt.figure(figsize=(16,6))\n",
    "sns.countplot(x=df['age'],hue=df['TenYearCHD'], palette=\"Set1\");"
   ]
  },
  {
   "cell_type": "markdown",
   "id": "f4535a0c",
   "metadata": {},
   "source": [
    "---\n",
    ">> **People aged 35 and over are at risk and The risk tend to be higher from the age of 40 onwards. Can be said...**\n",
    "---"
   ]
  },
  {
   "cell_type": "code",
   "execution_count": 103,
   "id": "0f6a3ea5",
   "metadata": {},
   "outputs": [],
   "source": [
    "# TenYearCHD Distribution"
   ]
  },
  {
   "cell_type": "code",
   "execution_count": 104,
   "id": "0650a083",
   "metadata": {},
   "outputs": [
    {
     "data": {
      "image/png": "[encoded data removed]",
      "text/plain": [
       "<Figure size 1296x504 with 2 Axes>"
      ]
     },
     "metadata": {
      "needs_background": "light"
     },
     "output_type": "display_data"
    }
   ],
   "source": [
    "a , ax = plt.subplots(1,2,figsize=(18,7))\n",
    "df['TenYearCHD'].value_counts().plot.pie(explode=[0,0.3], autopct='%1.2f%%',ax=ax[0],shadow=True, startangle=300)\n",
    "ax[0].set_title('Distribution of Those at Risk of Coronary Heart')\n",
    "ax[0].set_ylabel('')\n",
    "sns.countplot('TenYearCHD', data = df ,ax=ax[1])\n",
    "ax[1].set_title('Distribution of Those at Risk of Coronary Heart')\n",
    "plt.show()"
   ]
  },
  {
   "cell_type": "code",
   "execution_count": 105,
   "id": "5eff4dc3",
   "metadata": {},
   "outputs": [
    {
     "data": {
      "text/html": [
       "<div>\n",
       "<style scoped>\n",
       "    .dataframe tbody tr th:only-of-type {\n",
       "        vertical-align: middle;\n",
       "    }\n",
       "\n",
       "    .dataframe tbody tr th {\n",
       "        vertical-align: top;\n",
       "    }\n",
       "\n",
       "    .dataframe thead th {\n",
       "        text-align: right;\n",
       "    }\n",
       "</style>\n",
       "<table border=\"1\" class=\"dataframe\">\n",
       "  <thead>\n",
       "    <tr style=\"text-align: right;\">\n",
       "      <th></th>\n",
       "      <th>TenYearCHD</th>\n",
       "    </tr>\n",
       "    <tr>\n",
       "      <th>TenYearCHD</th>\n",
       "      <th></th>\n",
       "    </tr>\n",
       "  </thead>\n",
       "  <tbody>\n",
       "    <tr>\n",
       "      <th>0</th>\n",
       "      <td>3594</td>\n",
       "    </tr>\n",
       "    <tr>\n",
       "      <th>1</th>\n",
       "      <td>644</td>\n",
       "    </tr>\n",
       "  </tbody>\n",
       "</table>\n",
       "</div>"
      ],
      "text/plain": [
       "            TenYearCHD\n",
       "TenYearCHD            \n",
       "0                 3594\n",
       "1                  644"
      ]
     },
     "execution_count": 105,
     "metadata": {},
     "output_type": "execute_result"
    }
   ],
   "source": [
    "df.groupby(['TenYearCHD'])[['TenYearCHD']].count()"
   ]
  },
  {
   "cell_type": "code",
   "execution_count": 106,
   "id": "1ffa6a8b",
   "metadata": {},
   "outputs": [],
   "source": [
    "# Gender Distribution"
   ]
  },
  {
   "cell_type": "code",
   "execution_count": 107,
   "id": "13102b00",
   "metadata": {},
   "outputs": [
    {
     "data": {
      "image/png": "[encoded data removed]",
      "text/plain": [
       "<Figure size 1296x504 with 2 Axes>"
      ]
     },
     "metadata": {
      "needs_background": "light"
     },
     "output_type": "display_data"
    }
   ],
   "source": [
    "f , ax = plt.subplots(1,2,figsize=(18,7))\n",
    "df['male'].value_counts().plot.pie(explode=[0,0.3],autopct='%1.2f%%',ax=ax[0],shadow=True)\n",
    "ax[0].set_title('Gender Distribution')\n",
    "ax[0].set_ylabel('')\n",
    "sns.countplot('male', data = df ,ax=ax[1])\n",
    "ax[1].set_title('Gender Distributiont')\n",
    "plt.show()"
   ]
  },
  {
   "cell_type": "code",
   "execution_count": 108,
   "id": "5941ed8d",
   "metadata": {},
   "outputs": [],
   "source": [
    "# Gender and TenYearCHD Distribution"
   ]
  },
  {
   "cell_type": "code",
   "execution_count": 109,
   "id": "34be3910",
   "metadata": {},
   "outputs": [
    {
     "data": {
      "image/png": "[encoded data removed]",
      "text/plain": [
       "<Figure size 1152x432 with 1 Axes>"
      ]
     },
     "metadata": {
      "needs_background": "light"
     },
     "output_type": "display_data"
    }
   ],
   "source": [
    "plt.figure(figsize=(16,6))\n",
    "sns.countplot(y=\"male\", hue=\"TenYearCHD\", data=df);"
   ]
  },
  {
   "cell_type": "code",
   "execution_count": 110,
   "id": "09ee2c17",
   "metadata": {},
   "outputs": [
    {
     "data": {
      "text/html": [
       "<style type=\"text/css\">\n",
       "#T_09e8d_row0_col0 {\n",
       "  background-color: #249266;\n",
       "  color: #f1f1f1;\n",
       "}\n",
       "#T_09e8d_row0_col1 {\n",
       "  background-color: #3b9d66;\n",
       "  color: #f1f1f1;\n",
       "}\n",
       "#T_09e8d_row0_col2 {\n",
       "  background-color: #2d9666;\n",
       "  color: #f1f1f1;\n",
       "}\n",
       "#T_09e8d_row1_col0, #T_09e8d_row1_col1, #T_09e8d_row1_col2 {\n",
       "  background-color: #ffff66;\n",
       "  color: #000000;\n",
       "}\n",
       "#T_09e8d_row2_col0, #T_09e8d_row2_col1, #T_09e8d_row2_col2 {\n",
       "  background-color: #008066;\n",
       "  color: #f1f1f1;\n",
       "}\n",
       "</style>\n",
       "<table id=\"T_09e8d\">\n",
       "  <thead>\n",
       "    <tr>\n",
       "      <th class=\"index_name level0\" >male</th>\n",
       "      <th id=\"T_09e8d_level0_col0\" class=\"col_heading level0 col0\" >0</th>\n",
       "      <th id=\"T_09e8d_level0_col1\" class=\"col_heading level0 col1\" >1</th>\n",
       "      <th id=\"T_09e8d_level0_col2\" class=\"col_heading level0 col2\" >All</th>\n",
       "    </tr>\n",
       "    <tr>\n",
       "      <th class=\"index_name level0\" >TenYearCHD</th>\n",
       "      <th class=\"blank col0\" >&nbsp;</th>\n",
       "      <th class=\"blank col1\" >&nbsp;</th>\n",
       "      <th class=\"blank col2\" >&nbsp;</th>\n",
       "    </tr>\n",
       "  </thead>\n",
       "  <tbody>\n",
       "    <tr>\n",
       "      <th id=\"T_09e8d_level0_row0\" class=\"row_heading level0 row0\" >0</th>\n",
       "      <td id=\"T_09e8d_row0_col0\" class=\"data row0 col0\" >2118</td>\n",
       "      <td id=\"T_09e8d_row0_col1\" class=\"data row0 col1\" >1476</td>\n",
       "      <td id=\"T_09e8d_row0_col2\" class=\"data row0 col2\" >3594</td>\n",
       "    </tr>\n",
       "    <tr>\n",
       "      <th id=\"T_09e8d_level0_row1\" class=\"row_heading level0 row1\" >1</th>\n",
       "      <td id=\"T_09e8d_row1_col0\" class=\"data row1 col0\" >301</td>\n",
       "      <td id=\"T_09e8d_row1_col1\" class=\"data row1 col1\" >343</td>\n",
       "      <td id=\"T_09e8d_row1_col2\" class=\"data row1 col2\" >644</td>\n",
       "    </tr>\n",
       "    <tr>\n",
       "      <th id=\"T_09e8d_level0_row2\" class=\"row_heading level0 row2\" >All</th>\n",
       "      <td id=\"T_09e8d_row2_col0\" class=\"data row2 col0\" >2419</td>\n",
       "      <td id=\"T_09e8d_row2_col1\" class=\"data row2 col1\" >1819</td>\n",
       "      <td id=\"T_09e8d_row2_col2\" class=\"data row2 col2\" >4238</td>\n",
       "    </tr>\n",
       "  </tbody>\n",
       "</table>\n"
      ],
      "text/plain": [
       "<pandas.io.formats.style.Styler at 0x7fa528470f40>"
      ]
     },
     "execution_count": 110,
     "metadata": {},
     "output_type": "execute_result"
    }
   ],
   "source": [
    "pd.crosstab(df.TenYearCHD,df.male,margins=True).style.background_gradient(cmap='summer_r')"
   ]
  },
  {
   "cell_type": "markdown",
   "id": "b55a7a02",
   "metadata": {},
   "source": [
    "---\n",
    ">> ### When I examined the distribution of those at risk of coronary heart , gender distribution  and their age distribution, I came to the following conclusions :\n",
    "\n",
    "---\n",
    "* Out of a total of 4238 observation units, 3594 (ie: %84.8) do not carry the risk of coronary artery disease. The remaining 644 (ie: %15.20) observation units carry the risk of coronary artery disease.\n",
    "* When examining the gender distribution in the data set; Out of 4238 observation units, the gender of 2419 (ie: %57.08) observation units is 0 (Famle), the remaining 1819 (ie: %42.92) observation units are 1 (Male).\n",
    "* When the distribution of coronary disease risk by gender is analyzed, 301 of 644 people are women (ie %46.74), and the remaining 343 people (ie %53.26) are men.\n",
    "\n",
    "**The probability that a man will have CHD Disease: %18.85**\n",
    "* **formula: (343 x 100)/1819 = 18.95**\n",
    "\n",
    "**The probability that a women will have CHD Disease: %12.44**\n",
    "* **formula : (301 x 100)/2419 = 12.44**\n",
    "\n",
    "---\n",
    "\n",
    ">> ## In this case, men are %6.51 more at risk than women.\n",
    "---"
   ]
  },
  {
   "cell_type": "code",
   "execution_count": 111,
   "id": "0f721dca",
   "metadata": {},
   "outputs": [],
   "source": [
    "# Ordinal Feature --> EDUCATİON"
   ]
  },
  {
   "cell_type": "code",
   "execution_count": 112,
   "id": "cc20f4eb",
   "metadata": {},
   "outputs": [
    {
     "data": {
      "image/png": "[encoded data removed]",
      "text/plain": [
       "<Figure size 1152x432 with 1 Axes>"
      ]
     },
     "metadata": {
      "needs_background": "light"
     },
     "output_type": "display_data"
    }
   ],
   "source": [
    "plt.figure(figsize=(16,6))\n",
    "sns.countplot(x=df['education'],hue=df['TenYearCHD'], palette=\"Set3\");"
   ]
  },
  {
   "cell_type": "markdown",
   "id": "edc20547",
   "metadata": {},
   "source": [
    "# About ordinal feature :\n",
    "---\n",
    "* By looking at the graph above, it can be said that the risk increases as the class status decreases, but if we do not take any action other than the graph above and are not examined in detail, we will come to an incorrect conclusion. Therefore, I will consider the training feature in more detail ..."
   ]
  },
  {
   "cell_type": "code",
   "execution_count": 113,
   "id": "1675e6a9",
   "metadata": {
    "scrolled": false
   },
   "outputs": [
    {
     "data": {
      "image/png": "[encoded data removed]",
      "text/plain": [
       "<Figure size 1440x576 with 4 Axes>"
      ]
     },
     "metadata": {
      "needs_background": "light"
     },
     "output_type": "display_data"
    }
   ],
   "source": [
    "f,ax=plt.subplots(1,4,figsize=(20,8))\n",
    "sns.distplot(df[df['education']==1].TenYearCHD,ax=ax[0])\n",
    "ax[0].set_title('TenYearCHD in Education 1')\n",
    "sns.distplot(df[df['education']==2].TenYearCHD,ax=ax[1])\n",
    "ax[1].set_title('TenYearCHD in Education 2')\n",
    "sns.distplot(df[df['education']==3].TenYearCHD,ax=ax[2])\n",
    "ax[2].set_title('TenYearCHD in Education 3')\n",
    "sns.distplot(df[df['education']==4].TenYearCHD,ax=ax[3])\n",
    "ax[3].set_title('TenYearCHD in Education 3')\n",
    "plt.show()"
   ]
  },
  {
   "cell_type": "markdown",
   "id": "e99a8abe",
   "metadata": {},
   "source": [
    "---\n",
    ">> **Now when I want to observe it with a different visualization technique, the Risk order is 1,4,3,2 ! (So it cannot be said that the risk increases as the class status decreases, on the contrary, the 1st class has the highest risk ratio, followed by the 4th class, then the 3rd class and the 2nd class.)**\n",
    "---"
   ]
  },
  {
   "cell_type": "code",
   "execution_count": 114,
   "id": "5a15c6fa",
   "metadata": {},
   "outputs": [
    {
     "data": {
      "text/html": [
       "<style type=\"text/css\">\n",
       "#T_868c2_row0_col0 {\n",
       "  background-color: #3b9d66;\n",
       "  color: #f1f1f1;\n",
       "}\n",
       "#T_868c2_row0_col1 {\n",
       "  background-color: #229066;\n",
       "  color: #f1f1f1;\n",
       "}\n",
       "#T_868c2_row0_col2 {\n",
       "  background-color: #259266;\n",
       "  color: #f1f1f1;\n",
       "}\n",
       "#T_868c2_row0_col3 {\n",
       "  background-color: #2c9666;\n",
       "  color: #f1f1f1;\n",
       "}\n",
       "#T_868c2_row0_col4 {\n",
       "  background-color: #2d9666;\n",
       "  color: #f1f1f1;\n",
       "}\n",
       "#T_868c2_row1_col0, #T_868c2_row1_col1, #T_868c2_row1_col2, #T_868c2_row1_col3, #T_868c2_row1_col4 {\n",
       "  background-color: #ffff66;\n",
       "  color: #000000;\n",
       "}\n",
       "#T_868c2_row2_col0, #T_868c2_row2_col1, #T_868c2_row2_col2, #T_868c2_row2_col3, #T_868c2_row2_col4 {\n",
       "  background-color: #008066;\n",
       "  color: #f1f1f1;\n",
       "}\n",
       "</style>\n",
       "<table id=\"T_868c2\">\n",
       "  <thead>\n",
       "    <tr>\n",
       "      <th class=\"index_name level0\" >education</th>\n",
       "      <th id=\"T_868c2_level0_col0\" class=\"col_heading level0 col0\" >1.000000</th>\n",
       "      <th id=\"T_868c2_level0_col1\" class=\"col_heading level0 col1\" >2.000000</th>\n",
       "      <th id=\"T_868c2_level0_col2\" class=\"col_heading level0 col2\" >3.000000</th>\n",
       "      <th id=\"T_868c2_level0_col3\" class=\"col_heading level0 col3\" >4.000000</th>\n",
       "      <th id=\"T_868c2_level0_col4\" class=\"col_heading level0 col4\" >All</th>\n",
       "    </tr>\n",
       "    <tr>\n",
       "      <th class=\"index_name level0\" >TenYearCHD</th>\n",
       "      <th class=\"blank col0\" >&nbsp;</th>\n",
       "      <th class=\"blank col1\" >&nbsp;</th>\n",
       "      <th class=\"blank col2\" >&nbsp;</th>\n",
       "      <th class=\"blank col3\" >&nbsp;</th>\n",
       "      <th class=\"blank col4\" >&nbsp;</th>\n",
       "    </tr>\n",
       "  </thead>\n",
       "  <tbody>\n",
       "    <tr>\n",
       "      <th id=\"T_868c2_level0_row0\" class=\"row_heading level0 row0\" >0</th>\n",
       "      <td id=\"T_868c2_row0_col0\" class=\"data row0 col0\" >1397</td>\n",
       "      <td id=\"T_868c2_row0_col1\" class=\"data row0 col1\" >1106</td>\n",
       "      <td id=\"T_868c2_row0_col2\" class=\"data row0 col2\" >599</td>\n",
       "      <td id=\"T_868c2_row0_col3\" class=\"data row0 col3\" >403</td>\n",
       "      <td id=\"T_868c2_row0_col4\" class=\"data row0 col4\" >3505</td>\n",
       "    </tr>\n",
       "    <tr>\n",
       "      <th id=\"T_868c2_level0_row1\" class=\"row_heading level0 row1\" >1</th>\n",
       "      <td id=\"T_868c2_row1_col0\" class=\"data row1 col0\" >323</td>\n",
       "      <td id=\"T_868c2_row1_col1\" class=\"data row1 col1\" >147</td>\n",
       "      <td id=\"T_868c2_row1_col2\" class=\"data row1 col2\" >88</td>\n",
       "      <td id=\"T_868c2_row1_col3\" class=\"data row1 col3\" >70</td>\n",
       "      <td id=\"T_868c2_row1_col4\" class=\"data row1 col4\" >628</td>\n",
       "    </tr>\n",
       "    <tr>\n",
       "      <th id=\"T_868c2_level0_row2\" class=\"row_heading level0 row2\" >All</th>\n",
       "      <td id=\"T_868c2_row2_col0\" class=\"data row2 col0\" >1720</td>\n",
       "      <td id=\"T_868c2_row2_col1\" class=\"data row2 col1\" >1253</td>\n",
       "      <td id=\"T_868c2_row2_col2\" class=\"data row2 col2\" >687</td>\n",
       "      <td id=\"T_868c2_row2_col3\" class=\"data row2 col3\" >473</td>\n",
       "      <td id=\"T_868c2_row2_col4\" class=\"data row2 col4\" >4133</td>\n",
       "    </tr>\n",
       "  </tbody>\n",
       "</table>\n"
      ],
      "text/plain": [
       "<pandas.io.formats.style.Styler at 0x7fa52c46d640>"
      ]
     },
     "execution_count": 114,
     "metadata": {},
     "output_type": "execute_result"
    }
   ],
   "source": [
    "# I will get more detailed information for the training feature and calculate the risk ratios\n",
    "pd.crosstab(df.TenYearCHD,df.education,margins=True).style.background_gradient(cmap='summer_r')"
   ]
  },
  {
   "cell_type": "markdown",
   "id": "842c37e8",
   "metadata": {},
   "source": [
    "---\n",
    ">> **Probability of a person with education category 1 having CHD: %18.85**\n",
    "\n",
    ">> **Probability of a person with education category 2 having CHD: %11.73**\n",
    "\n",
    ">> **Probability of a person with education category 3 having CHD: %12.80**\n",
    "\n",
    ">> **Probability of a person with education category 4 having CHD: %14.79**\n",
    "---"
   ]
  },
  {
   "cell_type": "code",
   "execution_count": 115,
   "id": "a2015508",
   "metadata": {},
   "outputs": [],
   "source": [
    "# Nominal Features ---> currentSmoker, BPMeds, prevalentStroke, diabetes, prevalentHyp  "
   ]
  },
  {
   "cell_type": "code",
   "execution_count": 116,
   "id": "d5a33062",
   "metadata": {},
   "outputs": [],
   "source": [
    "nominal_features = list(['TenYearCHD','prevalentStroke', 'BPMeds',  'diabetes', 'currentSmoker','prevalentHyp'])"
   ]
  },
  {
   "cell_type": "code",
   "execution_count": 117,
   "id": "0f6353f4",
   "metadata": {},
   "outputs": [
    {
     "data": {
      "text/html": [
       "<div>\n",
       "<style scoped>\n",
       "    .dataframe tbody tr th:only-of-type {\n",
       "        vertical-align: middle;\n",
       "    }\n",
       "\n",
       "    .dataframe tbody tr th {\n",
       "        vertical-align: top;\n",
       "    }\n",
       "\n",
       "    .dataframe thead th {\n",
       "        text-align: right;\n",
       "    }\n",
       "</style>\n",
       "<table border=\"1\" class=\"dataframe\">\n",
       "  <thead>\n",
       "    <tr style=\"text-align: right;\">\n",
       "      <th></th>\n",
       "      <th></th>\n",
       "      <th></th>\n",
       "      <th></th>\n",
       "      <th></th>\n",
       "      <th></th>\n",
       "      <th>TenYearCHD</th>\n",
       "    </tr>\n",
       "    <tr>\n",
       "      <th>TenYearCHD</th>\n",
       "      <th>prevalentStroke</th>\n",
       "      <th>BPMeds</th>\n",
       "      <th>diabetes</th>\n",
       "      <th>currentSmoker</th>\n",
       "      <th>prevalentHyp</th>\n",
       "      <th></th>\n",
       "    </tr>\n",
       "  </thead>\n",
       "  <tbody>\n",
       "    <tr>\n",
       "      <th rowspan=\"17\" valign=\"top\">0</th>\n",
       "      <th rowspan=\"11\" valign=\"top\">0</th>\n",
       "      <th rowspan=\"8\" valign=\"top\">0.0</th>\n",
       "      <th rowspan=\"4\" valign=\"top\">0</th>\n",
       "      <th rowspan=\"2\" valign=\"top\">0</th>\n",
       "      <th>0</th>\n",
       "      <td>1215</td>\n",
       "    </tr>\n",
       "    <tr>\n",
       "      <th>1</th>\n",
       "      <td>497</td>\n",
       "    </tr>\n",
       "    <tr>\n",
       "      <th rowspan=\"2\" valign=\"top\">1</th>\n",
       "      <th>0</th>\n",
       "      <td>1320</td>\n",
       "    </tr>\n",
       "    <tr>\n",
       "      <th>1</th>\n",
       "      <td>364</td>\n",
       "    </tr>\n",
       "    <tr>\n",
       "      <th rowspan=\"4\" valign=\"top\">1</th>\n",
       "      <th rowspan=\"2\" valign=\"top\">0</th>\n",
       "      <th>0</th>\n",
       "      <td>19</td>\n",
       "    </tr>\n",
       "    <tr>\n",
       "      <th>1</th>\n",
       "      <td>21</td>\n",
       "    </tr>\n",
       "    <tr>\n",
       "      <th rowspan=\"2\" valign=\"top\">1</th>\n",
       "      <th>0</th>\n",
       "      <td>17</td>\n",
       "    </tr>\n",
       "    <tr>\n",
       "      <th>1</th>\n",
       "      <td>8</td>\n",
       "    </tr>\n",
       "    <tr>\n",
       "      <th rowspan=\"3\" valign=\"top\">1.0</th>\n",
       "      <th rowspan=\"2\" valign=\"top\">0</th>\n",
       "      <th>0</th>\n",
       "      <th>1</th>\n",
       "      <td>44</td>\n",
       "    </tr>\n",
       "    <tr>\n",
       "      <th>1</th>\n",
       "      <th>1</th>\n",
       "      <td>30</td>\n",
       "    </tr>\n",
       "    <tr>\n",
       "      <th>1</th>\n",
       "      <th>0</th>\n",
       "      <th>1</th>\n",
       "      <td>3</td>\n",
       "    </tr>\n",
       "    <tr>\n",
       "      <th rowspan=\"6\" valign=\"top\">1</th>\n",
       "      <th rowspan=\"4\" valign=\"top\">0.0</th>\n",
       "      <th rowspan=\"4\" valign=\"top\">0</th>\n",
       "      <th rowspan=\"2\" valign=\"top\">0</th>\n",
       "      <th>0</th>\n",
       "      <td>4</td>\n",
       "    </tr>\n",
       "    <tr>\n",
       "      <th>1</th>\n",
       "      <td>2</td>\n",
       "    </tr>\n",
       "    <tr>\n",
       "      <th rowspan=\"2\" valign=\"top\">1</th>\n",
       "      <th>0</th>\n",
       "      <td>1</td>\n",
       "    </tr>\n",
       "    <tr>\n",
       "      <th>1</th>\n",
       "      <td>1</td>\n",
       "    </tr>\n",
       "    <tr>\n",
       "      <th rowspan=\"2\" valign=\"top\">1.0</th>\n",
       "      <th rowspan=\"2\" valign=\"top\">0</th>\n",
       "      <th>0</th>\n",
       "      <th>1</th>\n",
       "      <td>5</td>\n",
       "    </tr>\n",
       "    <tr>\n",
       "      <th>1</th>\n",
       "      <th>1</th>\n",
       "      <td>1</td>\n",
       "    </tr>\n",
       "    <tr>\n",
       "      <th rowspan=\"17\" valign=\"top\">1</th>\n",
       "      <th rowspan=\"12\" valign=\"top\">0</th>\n",
       "      <th rowspan=\"8\" valign=\"top\">0.0</th>\n",
       "      <th rowspan=\"4\" valign=\"top\">0</th>\n",
       "      <th rowspan=\"2\" valign=\"top\">0</th>\n",
       "      <th>0</th>\n",
       "      <td>116</td>\n",
       "    </tr>\n",
       "    <tr>\n",
       "      <th>1</th>\n",
       "      <td>135</td>\n",
       "    </tr>\n",
       "    <tr>\n",
       "      <th rowspan=\"2\" valign=\"top\">1</th>\n",
       "      <th>0</th>\n",
       "      <td>184</td>\n",
       "    </tr>\n",
       "    <tr>\n",
       "      <th>1</th>\n",
       "      <td>116</td>\n",
       "    </tr>\n",
       "    <tr>\n",
       "      <th rowspan=\"4\" valign=\"top\">1</th>\n",
       "      <th rowspan=\"2\" valign=\"top\">0</th>\n",
       "      <th>0</th>\n",
       "      <td>8</td>\n",
       "    </tr>\n",
       "    <tr>\n",
       "      <th>1</th>\n",
       "      <td>12</td>\n",
       "    </tr>\n",
       "    <tr>\n",
       "      <th rowspan=\"2\" valign=\"top\">1</th>\n",
       "      <th>0</th>\n",
       "      <td>6</td>\n",
       "    </tr>\n",
       "    <tr>\n",
       "      <th>1</th>\n",
       "      <td>6</td>\n",
       "    </tr>\n",
       "    <tr>\n",
       "      <th rowspan=\"4\" valign=\"top\">1.0</th>\n",
       "      <th rowspan=\"2\" valign=\"top\">0</th>\n",
       "      <th>0</th>\n",
       "      <th>1</th>\n",
       "      <td>23</td>\n",
       "    </tr>\n",
       "    <tr>\n",
       "      <th>1</th>\n",
       "      <th>1</th>\n",
       "      <td>11</td>\n",
       "    </tr>\n",
       "    <tr>\n",
       "      <th rowspan=\"2\" valign=\"top\">1</th>\n",
       "      <th>0</th>\n",
       "      <th>1</th>\n",
       "      <td>4</td>\n",
       "    </tr>\n",
       "    <tr>\n",
       "      <th>1</th>\n",
       "      <th>1</th>\n",
       "      <td>2</td>\n",
       "    </tr>\n",
       "    <tr>\n",
       "      <th rowspan=\"5\" valign=\"top\">1</th>\n",
       "      <th rowspan=\"4\" valign=\"top\">0.0</th>\n",
       "      <th rowspan=\"3\" valign=\"top\">0</th>\n",
       "      <th rowspan=\"2\" valign=\"top\">0</th>\n",
       "      <th>0</th>\n",
       "      <td>1</td>\n",
       "    </tr>\n",
       "    <tr>\n",
       "      <th>1</th>\n",
       "      <td>3</td>\n",
       "    </tr>\n",
       "    <tr>\n",
       "      <th>1</th>\n",
       "      <th>1</th>\n",
       "      <td>4</td>\n",
       "    </tr>\n",
       "    <tr>\n",
       "      <th>1</th>\n",
       "      <th>0</th>\n",
       "      <th>1</th>\n",
       "      <td>1</td>\n",
       "    </tr>\n",
       "    <tr>\n",
       "      <th>1.0</th>\n",
       "      <th>0</th>\n",
       "      <th>0</th>\n",
       "      <th>1</th>\n",
       "      <td>1</td>\n",
       "    </tr>\n",
       "  </tbody>\n",
       "</table>\n",
       "</div>"
      ],
      "text/plain": [
       "                                                                       TenYearCHD\n",
       "TenYearCHD prevalentStroke BPMeds diabetes currentSmoker prevalentHyp            \n",
       "0          0               0.0    0        0             0                   1215\n",
       "                                                         1                    497\n",
       "                                           1             0                   1320\n",
       "                                                         1                    364\n",
       "                                  1        0             0                     19\n",
       "                                                         1                     21\n",
       "                                           1             0                     17\n",
       "                                                         1                      8\n",
       "                           1.0    0        0             1                     44\n",
       "                                           1             1                     30\n",
       "                                  1        0             1                      3\n",
       "           1               0.0    0        0             0                      4\n",
       "                                                         1                      2\n",
       "                                           1             0                      1\n",
       "                                                         1                      1\n",
       "                           1.0    0        0             1                      5\n",
       "                                           1             1                      1\n",
       "1          0               0.0    0        0             0                    116\n",
       "                                                         1                    135\n",
       "                                           1             0                    184\n",
       "                                                         1                    116\n",
       "                                  1        0             0                      8\n",
       "                                                         1                     12\n",
       "                                           1             0                      6\n",
       "                                                         1                      6\n",
       "                           1.0    0        0             1                     23\n",
       "                                           1             1                     11\n",
       "                                  1        0             1                      4\n",
       "                                           1             1                      2\n",
       "           1               0.0    0        0             0                      1\n",
       "                                                         1                      3\n",
       "                                           1             1                      4\n",
       "                                  1        0             1                      1\n",
       "                           1.0    0        0             1                      1"
      ]
     },
     "execution_count": 117,
     "metadata": {},
     "output_type": "execute_result"
    }
   ],
   "source": [
    "df.groupby(nominal_features)[['TenYearCHD']].count()"
   ]
  },
  {
   "cell_type": "code",
   "execution_count": 118,
   "id": "61097997",
   "metadata": {},
   "outputs": [],
   "source": [
    "# Visualization process has been applied for better understanding. (As an example, 4 features are discussed.)"
   ]
  },
  {
   "cell_type": "code",
   "execution_count": 119,
   "id": "8b1699d6",
   "metadata": {},
   "outputs": [
    {
     "data": {
      "text/html": [
       "<style type=\"text/css\">\n",
       "#T_ed380_row0_col0 {\n",
       "  background-color: #2b9566;\n",
       "  color: #f1f1f1;\n",
       "}\n",
       "#T_ed380_row0_col1 {\n",
       "  background-color: #309866;\n",
       "  color: #f1f1f1;\n",
       "}\n",
       "#T_ed380_row0_col2 {\n",
       "  background-color: #2d9666;\n",
       "  color: #f1f1f1;\n",
       "}\n",
       "#T_ed380_row1_col0, #T_ed380_row1_col1, #T_ed380_row1_col2 {\n",
       "  background-color: #ffff66;\n",
       "  color: #000000;\n",
       "}\n",
       "#T_ed380_row2_col0, #T_ed380_row2_col1, #T_ed380_row2_col2 {\n",
       "  background-color: #008066;\n",
       "  color: #f1f1f1;\n",
       "}\n",
       "</style>\n",
       "<table id=\"T_ed380\">\n",
       "  <thead>\n",
       "    <tr>\n",
       "      <th class=\"index_name level0\" >currentSmoker</th>\n",
       "      <th id=\"T_ed380_level0_col0\" class=\"col_heading level0 col0\" >0</th>\n",
       "      <th id=\"T_ed380_level0_col1\" class=\"col_heading level0 col1\" >1</th>\n",
       "      <th id=\"T_ed380_level0_col2\" class=\"col_heading level0 col2\" >All</th>\n",
       "    </tr>\n",
       "    <tr>\n",
       "      <th class=\"index_name level0\" >TenYearCHD</th>\n",
       "      <th class=\"blank col0\" >&nbsp;</th>\n",
       "      <th class=\"blank col1\" >&nbsp;</th>\n",
       "      <th class=\"blank col2\" >&nbsp;</th>\n",
       "    </tr>\n",
       "  </thead>\n",
       "  <tbody>\n",
       "    <tr>\n",
       "      <th id=\"T_ed380_level0_row0\" class=\"row_heading level0 row0\" >0</th>\n",
       "      <td id=\"T_ed380_row0_col0\" class=\"data row0 col0\" >1833</td>\n",
       "      <td id=\"T_ed380_row0_col1\" class=\"data row0 col1\" >1761</td>\n",
       "      <td id=\"T_ed380_row0_col2\" class=\"data row0 col2\" >3594</td>\n",
       "    </tr>\n",
       "    <tr>\n",
       "      <th id=\"T_ed380_level0_row1\" class=\"row_heading level0 row1\" >1</th>\n",
       "      <td id=\"T_ed380_row1_col0\" class=\"data row1 col0\" >311</td>\n",
       "      <td id=\"T_ed380_row1_col1\" class=\"data row1 col1\" >333</td>\n",
       "      <td id=\"T_ed380_row1_col2\" class=\"data row1 col2\" >644</td>\n",
       "    </tr>\n",
       "    <tr>\n",
       "      <th id=\"T_ed380_level0_row2\" class=\"row_heading level0 row2\" >All</th>\n",
       "      <td id=\"T_ed380_row2_col0\" class=\"data row2 col0\" >2144</td>\n",
       "      <td id=\"T_ed380_row2_col1\" class=\"data row2 col1\" >2094</td>\n",
       "      <td id=\"T_ed380_row2_col2\" class=\"data row2 col2\" >4238</td>\n",
       "    </tr>\n",
       "  </tbody>\n",
       "</table>\n"
      ],
      "text/plain": [
       "<pandas.io.formats.style.Styler at 0x7fa527911790>"
      ]
     },
     "execution_count": 119,
     "metadata": {},
     "output_type": "execute_result"
    }
   ],
   "source": [
    "pd.crosstab(df.TenYearCHD,df.currentSmoker,margins=True).style.background_gradient(cmap='summer_r')"
   ]
  },
  {
   "cell_type": "code",
   "execution_count": 120,
   "id": "12829ad1",
   "metadata": {},
   "outputs": [
    {
     "data": {
      "image/png": "[encoded data removed]",
      "text/plain": [
       "<Figure size 1440x576 with 2 Axes>"
      ]
     },
     "metadata": {
      "needs_background": "light"
     },
     "output_type": "display_data"
    }
   ],
   "source": [
    "# If she is a CHD patient and smokes, daily consumption information, if she is not a CHD patient, cigarette consumption information\n",
    "f,ax=plt.subplots(1,2,figsize=(20,8))\n",
    "sns.distplot(df[df['currentSmoker']==0].cigsPerDay,ax=ax[0])\n",
    "ax[0].set_title('TenYearCHD in currentSmoker 0')\n",
    "sns.distplot(df[df['currentSmoker']==1].cigsPerDay,ax=ax[1])\n",
    "ax[1].set_title('TenYearCHD in currentSmoker 1')\n",
    "plt.show()"
   ]
  },
  {
   "cell_type": "code",
   "execution_count": 121,
   "id": "6ac7797d",
   "metadata": {},
   "outputs": [
    {
     "data": {
      "text/html": [
       "<style type=\"text/css\">\n",
       "#T_18fbc_row0_col0, #T_18fbc_row1_col1, #T_18fbc_row1_col2, #T_18fbc_row1_col3, #T_18fbc_row1_col4, #T_18fbc_row1_col5, #T_18fbc_row1_col6, #T_18fbc_row1_col7, #T_18fbc_row1_col8, #T_18fbc_row1_col9, #T_18fbc_row1_col10, #T_18fbc_row1_col11, #T_18fbc_row1_col12, #T_18fbc_row1_col13, #T_18fbc_row1_col14, #T_18fbc_row1_col15, #T_18fbc_row1_col16, #T_18fbc_row1_col17, #T_18fbc_row1_col18, #T_18fbc_row1_col19, #T_18fbc_row1_col20, #T_18fbc_row1_col21, #T_18fbc_row1_col22, #T_18fbc_row1_col23, #T_18fbc_row1_col24, #T_18fbc_row1_col25, #T_18fbc_row1_col26, #T_18fbc_row1_col27, #T_18fbc_row1_col28, #T_18fbc_row1_col29, #T_18fbc_row1_col30, #T_18fbc_row1_col31, #T_18fbc_row1_col32, #T_18fbc_row2_col0, #T_18fbc_row2_col1, #T_18fbc_row2_col2, #T_18fbc_row2_col3, #T_18fbc_row2_col4, #T_18fbc_row2_col5, #T_18fbc_row2_col6, #T_18fbc_row2_col7, #T_18fbc_row2_col8, #T_18fbc_row2_col9, #T_18fbc_row2_col10, #T_18fbc_row2_col11, #T_18fbc_row2_col12, #T_18fbc_row2_col13, #T_18fbc_row2_col14, #T_18fbc_row2_col15, #T_18fbc_row2_col16, #T_18fbc_row2_col17, #T_18fbc_row2_col18, #T_18fbc_row2_col19, #T_18fbc_row2_col20, #T_18fbc_row2_col21, #T_18fbc_row2_col22, #T_18fbc_row2_col23, #T_18fbc_row2_col24, #T_18fbc_row2_col25, #T_18fbc_row2_col26, #T_18fbc_row2_col27, #T_18fbc_row2_col28, #T_18fbc_row2_col29, #T_18fbc_row2_col30, #T_18fbc_row2_col31, #T_18fbc_row2_col32, #T_18fbc_row2_col33 {\n",
       "  background-color: #008066;\n",
       "  color: #f1f1f1;\n",
       "}\n",
       "#T_18fbc_row0_col1, #T_18fbc_row0_col2, #T_18fbc_row0_col3, #T_18fbc_row0_col4, #T_18fbc_row0_col5, #T_18fbc_row0_col6, #T_18fbc_row0_col7, #T_18fbc_row0_col8, #T_18fbc_row0_col9, #T_18fbc_row0_col10, #T_18fbc_row0_col11, #T_18fbc_row0_col12, #T_18fbc_row0_col13, #T_18fbc_row0_col14, #T_18fbc_row0_col15, #T_18fbc_row0_col16, #T_18fbc_row0_col17, #T_18fbc_row0_col18, #T_18fbc_row0_col19, #T_18fbc_row0_col20, #T_18fbc_row0_col21, #T_18fbc_row0_col22, #T_18fbc_row0_col23, #T_18fbc_row0_col24, #T_18fbc_row0_col25, #T_18fbc_row0_col26, #T_18fbc_row0_col27, #T_18fbc_row0_col28, #T_18fbc_row0_col29, #T_18fbc_row0_col30, #T_18fbc_row0_col31, #T_18fbc_row0_col32, #T_18fbc_row1_col0, #T_18fbc_row1_col33 {\n",
       "  background-color: #ffff66;\n",
       "  color: #000000;\n",
       "}\n",
       "#T_18fbc_row0_col33 {\n",
       "  background-color: #f6fa66;\n",
       "  color: #000000;\n",
       "}\n",
       "</style>\n",
       "<table id=\"T_18fbc\">\n",
       "  <thead>\n",
       "    <tr>\n",
       "      <th class=\"index_name level0\" >cigsPerDay</th>\n",
       "      <th id=\"T_18fbc_level0_col0\" class=\"col_heading level0 col0\" >0.000000</th>\n",
       "      <th id=\"T_18fbc_level0_col1\" class=\"col_heading level0 col1\" >1.000000</th>\n",
       "      <th id=\"T_18fbc_level0_col2\" class=\"col_heading level0 col2\" >2.000000</th>\n",
       "      <th id=\"T_18fbc_level0_col3\" class=\"col_heading level0 col3\" >3.000000</th>\n",
       "      <th id=\"T_18fbc_level0_col4\" class=\"col_heading level0 col4\" >4.000000</th>\n",
       "      <th id=\"T_18fbc_level0_col5\" class=\"col_heading level0 col5\" >5.000000</th>\n",
       "      <th id=\"T_18fbc_level0_col6\" class=\"col_heading level0 col6\" >6.000000</th>\n",
       "      <th id=\"T_18fbc_level0_col7\" class=\"col_heading level0 col7\" >7.000000</th>\n",
       "      <th id=\"T_18fbc_level0_col8\" class=\"col_heading level0 col8\" >8.000000</th>\n",
       "      <th id=\"T_18fbc_level0_col9\" class=\"col_heading level0 col9\" >9.000000</th>\n",
       "      <th id=\"T_18fbc_level0_col10\" class=\"col_heading level0 col10\" >10.000000</th>\n",
       "      <th id=\"T_18fbc_level0_col11\" class=\"col_heading level0 col11\" >11.000000</th>\n",
       "      <th id=\"T_18fbc_level0_col12\" class=\"col_heading level0 col12\" >12.000000</th>\n",
       "      <th id=\"T_18fbc_level0_col13\" class=\"col_heading level0 col13\" >13.000000</th>\n",
       "      <th id=\"T_18fbc_level0_col14\" class=\"col_heading level0 col14\" >14.000000</th>\n",
       "      <th id=\"T_18fbc_level0_col15\" class=\"col_heading level0 col15\" >15.000000</th>\n",
       "      <th id=\"T_18fbc_level0_col16\" class=\"col_heading level0 col16\" >16.000000</th>\n",
       "      <th id=\"T_18fbc_level0_col17\" class=\"col_heading level0 col17\" >17.000000</th>\n",
       "      <th id=\"T_18fbc_level0_col18\" class=\"col_heading level0 col18\" >18.000000</th>\n",
       "      <th id=\"T_18fbc_level0_col19\" class=\"col_heading level0 col19\" >19.000000</th>\n",
       "      <th id=\"T_18fbc_level0_col20\" class=\"col_heading level0 col20\" >20.000000</th>\n",
       "      <th id=\"T_18fbc_level0_col21\" class=\"col_heading level0 col21\" >23.000000</th>\n",
       "      <th id=\"T_18fbc_level0_col22\" class=\"col_heading level0 col22\" >25.000000</th>\n",
       "      <th id=\"T_18fbc_level0_col23\" class=\"col_heading level0 col23\" >29.000000</th>\n",
       "      <th id=\"T_18fbc_level0_col24\" class=\"col_heading level0 col24\" >30.000000</th>\n",
       "      <th id=\"T_18fbc_level0_col25\" class=\"col_heading level0 col25\" >35.000000</th>\n",
       "      <th id=\"T_18fbc_level0_col26\" class=\"col_heading level0 col26\" >38.000000</th>\n",
       "      <th id=\"T_18fbc_level0_col27\" class=\"col_heading level0 col27\" >40.000000</th>\n",
       "      <th id=\"T_18fbc_level0_col28\" class=\"col_heading level0 col28\" >43.000000</th>\n",
       "      <th id=\"T_18fbc_level0_col29\" class=\"col_heading level0 col29\" >45.000000</th>\n",
       "      <th id=\"T_18fbc_level0_col30\" class=\"col_heading level0 col30\" >50.000000</th>\n",
       "      <th id=\"T_18fbc_level0_col31\" class=\"col_heading level0 col31\" >60.000000</th>\n",
       "      <th id=\"T_18fbc_level0_col32\" class=\"col_heading level0 col32\" >70.000000</th>\n",
       "      <th id=\"T_18fbc_level0_col33\" class=\"col_heading level0 col33\" >All</th>\n",
       "    </tr>\n",
       "    <tr>\n",
       "      <th class=\"index_name level0\" >currentSmoker</th>\n",
       "      <th class=\"blank col0\" >&nbsp;</th>\n",
       "      <th class=\"blank col1\" >&nbsp;</th>\n",
       "      <th class=\"blank col2\" >&nbsp;</th>\n",
       "      <th class=\"blank col3\" >&nbsp;</th>\n",
       "      <th class=\"blank col4\" >&nbsp;</th>\n",
       "      <th class=\"blank col5\" >&nbsp;</th>\n",
       "      <th class=\"blank col6\" >&nbsp;</th>\n",
       "      <th class=\"blank col7\" >&nbsp;</th>\n",
       "      <th class=\"blank col8\" >&nbsp;</th>\n",
       "      <th class=\"blank col9\" >&nbsp;</th>\n",
       "      <th class=\"blank col10\" >&nbsp;</th>\n",
       "      <th class=\"blank col11\" >&nbsp;</th>\n",
       "      <th class=\"blank col12\" >&nbsp;</th>\n",
       "      <th class=\"blank col13\" >&nbsp;</th>\n",
       "      <th class=\"blank col14\" >&nbsp;</th>\n",
       "      <th class=\"blank col15\" >&nbsp;</th>\n",
       "      <th class=\"blank col16\" >&nbsp;</th>\n",
       "      <th class=\"blank col17\" >&nbsp;</th>\n",
       "      <th class=\"blank col18\" >&nbsp;</th>\n",
       "      <th class=\"blank col19\" >&nbsp;</th>\n",
       "      <th class=\"blank col20\" >&nbsp;</th>\n",
       "      <th class=\"blank col21\" >&nbsp;</th>\n",
       "      <th class=\"blank col22\" >&nbsp;</th>\n",
       "      <th class=\"blank col23\" >&nbsp;</th>\n",
       "      <th class=\"blank col24\" >&nbsp;</th>\n",
       "      <th class=\"blank col25\" >&nbsp;</th>\n",
       "      <th class=\"blank col26\" >&nbsp;</th>\n",
       "      <th class=\"blank col27\" >&nbsp;</th>\n",
       "      <th class=\"blank col28\" >&nbsp;</th>\n",
       "      <th class=\"blank col29\" >&nbsp;</th>\n",
       "      <th class=\"blank col30\" >&nbsp;</th>\n",
       "      <th class=\"blank col31\" >&nbsp;</th>\n",
       "      <th class=\"blank col32\" >&nbsp;</th>\n",
       "      <th class=\"blank col33\" >&nbsp;</th>\n",
       "    </tr>\n",
       "  </thead>\n",
       "  <tbody>\n",
       "    <tr>\n",
       "      <th id=\"T_18fbc_level0_row0\" class=\"row_heading level0 row0\" >0</th>\n",
       "      <td id=\"T_18fbc_row0_col0\" class=\"data row0 col0\" >2144</td>\n",
       "      <td id=\"T_18fbc_row0_col1\" class=\"data row0 col1\" >0</td>\n",
       "      <td id=\"T_18fbc_row0_col2\" class=\"data row0 col2\" >0</td>\n",
       "      <td id=\"T_18fbc_row0_col3\" class=\"data row0 col3\" >0</td>\n",
       "      <td id=\"T_18fbc_row0_col4\" class=\"data row0 col4\" >0</td>\n",
       "      <td id=\"T_18fbc_row0_col5\" class=\"data row0 col5\" >0</td>\n",
       "      <td id=\"T_18fbc_row0_col6\" class=\"data row0 col6\" >0</td>\n",
       "      <td id=\"T_18fbc_row0_col7\" class=\"data row0 col7\" >0</td>\n",
       "      <td id=\"T_18fbc_row0_col8\" class=\"data row0 col8\" >0</td>\n",
       "      <td id=\"T_18fbc_row0_col9\" class=\"data row0 col9\" >0</td>\n",
       "      <td id=\"T_18fbc_row0_col10\" class=\"data row0 col10\" >0</td>\n",
       "      <td id=\"T_18fbc_row0_col11\" class=\"data row0 col11\" >0</td>\n",
       "      <td id=\"T_18fbc_row0_col12\" class=\"data row0 col12\" >0</td>\n",
       "      <td id=\"T_18fbc_row0_col13\" class=\"data row0 col13\" >0</td>\n",
       "      <td id=\"T_18fbc_row0_col14\" class=\"data row0 col14\" >0</td>\n",
       "      <td id=\"T_18fbc_row0_col15\" class=\"data row0 col15\" >0</td>\n",
       "      <td id=\"T_18fbc_row0_col16\" class=\"data row0 col16\" >0</td>\n",
       "      <td id=\"T_18fbc_row0_col17\" class=\"data row0 col17\" >0</td>\n",
       "      <td id=\"T_18fbc_row0_col18\" class=\"data row0 col18\" >0</td>\n",
       "      <td id=\"T_18fbc_row0_col19\" class=\"data row0 col19\" >0</td>\n",
       "      <td id=\"T_18fbc_row0_col20\" class=\"data row0 col20\" >0</td>\n",
       "      <td id=\"T_18fbc_row0_col21\" class=\"data row0 col21\" >0</td>\n",
       "      <td id=\"T_18fbc_row0_col22\" class=\"data row0 col22\" >0</td>\n",
       "      <td id=\"T_18fbc_row0_col23\" class=\"data row0 col23\" >0</td>\n",
       "      <td id=\"T_18fbc_row0_col24\" class=\"data row0 col24\" >0</td>\n",
       "      <td id=\"T_18fbc_row0_col25\" class=\"data row0 col25\" >0</td>\n",
       "      <td id=\"T_18fbc_row0_col26\" class=\"data row0 col26\" >0</td>\n",
       "      <td id=\"T_18fbc_row0_col27\" class=\"data row0 col27\" >0</td>\n",
       "      <td id=\"T_18fbc_row0_col28\" class=\"data row0 col28\" >0</td>\n",
       "      <td id=\"T_18fbc_row0_col29\" class=\"data row0 col29\" >0</td>\n",
       "      <td id=\"T_18fbc_row0_col30\" class=\"data row0 col30\" >0</td>\n",
       "      <td id=\"T_18fbc_row0_col31\" class=\"data row0 col31\" >0</td>\n",
       "      <td id=\"T_18fbc_row0_col32\" class=\"data row0 col32\" >0</td>\n",
       "      <td id=\"T_18fbc_row0_col33\" class=\"data row0 col33\" >2144</td>\n",
       "    </tr>\n",
       "    <tr>\n",
       "      <th id=\"T_18fbc_level0_row1\" class=\"row_heading level0 row1\" >1</th>\n",
       "      <td id=\"T_18fbc_row1_col0\" class=\"data row1 col0\" >0</td>\n",
       "      <td id=\"T_18fbc_row1_col1\" class=\"data row1 col1\" >67</td>\n",
       "      <td id=\"T_18fbc_row1_col2\" class=\"data row1 col2\" >18</td>\n",
       "      <td id=\"T_18fbc_row1_col3\" class=\"data row1 col3\" >100</td>\n",
       "      <td id=\"T_18fbc_row1_col4\" class=\"data row1 col4\" >9</td>\n",
       "      <td id=\"T_18fbc_row1_col5\" class=\"data row1 col5\" >121</td>\n",
       "      <td id=\"T_18fbc_row1_col6\" class=\"data row1 col6\" >18</td>\n",
       "      <td id=\"T_18fbc_row1_col7\" class=\"data row1 col7\" >12</td>\n",
       "      <td id=\"T_18fbc_row1_col8\" class=\"data row1 col8\" >11</td>\n",
       "      <td id=\"T_18fbc_row1_col9\" class=\"data row1 col9\" >130</td>\n",
       "      <td id=\"T_18fbc_row1_col10\" class=\"data row1 col10\" >143</td>\n",
       "      <td id=\"T_18fbc_row1_col11\" class=\"data row1 col11\" >5</td>\n",
       "      <td id=\"T_18fbc_row1_col12\" class=\"data row1 col12\" >3</td>\n",
       "      <td id=\"T_18fbc_row1_col13\" class=\"data row1 col13\" >3</td>\n",
       "      <td id=\"T_18fbc_row1_col14\" class=\"data row1 col14\" >2</td>\n",
       "      <td id=\"T_18fbc_row1_col15\" class=\"data row1 col15\" >210</td>\n",
       "      <td id=\"T_18fbc_row1_col16\" class=\"data row1 col16\" >3</td>\n",
       "      <td id=\"T_18fbc_row1_col17\" class=\"data row1 col17\" >7</td>\n",
       "      <td id=\"T_18fbc_row1_col18\" class=\"data row1 col18\" >8</td>\n",
       "      <td id=\"T_18fbc_row1_col19\" class=\"data row1 col19\" >2</td>\n",
       "      <td id=\"T_18fbc_row1_col20\" class=\"data row1 col20\" >734</td>\n",
       "      <td id=\"T_18fbc_row1_col21\" class=\"data row1 col21\" >6</td>\n",
       "      <td id=\"T_18fbc_row1_col22\" class=\"data row1 col22\" >55</td>\n",
       "      <td id=\"T_18fbc_row1_col23\" class=\"data row1 col23\" >1</td>\n",
       "      <td id=\"T_18fbc_row1_col24\" class=\"data row1 col24\" >217</td>\n",
       "      <td id=\"T_18fbc_row1_col25\" class=\"data row1 col25\" >22</td>\n",
       "      <td id=\"T_18fbc_row1_col26\" class=\"data row1 col26\" >1</td>\n",
       "      <td id=\"T_18fbc_row1_col27\" class=\"data row1 col27\" >80</td>\n",
       "      <td id=\"T_18fbc_row1_col28\" class=\"data row1 col28\" >56</td>\n",
       "      <td id=\"T_18fbc_row1_col29\" class=\"data row1 col29\" >3</td>\n",
       "      <td id=\"T_18fbc_row1_col30\" class=\"data row1 col30\" >6</td>\n",
       "      <td id=\"T_18fbc_row1_col31\" class=\"data row1 col31\" >11</td>\n",
       "      <td id=\"T_18fbc_row1_col32\" class=\"data row1 col32\" >1</td>\n",
       "      <td id=\"T_18fbc_row1_col33\" class=\"data row1 col33\" >2065</td>\n",
       "    </tr>\n",
       "    <tr>\n",
       "      <th id=\"T_18fbc_level0_row2\" class=\"row_heading level0 row2\" >All</th>\n",
       "      <td id=\"T_18fbc_row2_col0\" class=\"data row2 col0\" >2144</td>\n",
       "      <td id=\"T_18fbc_row2_col1\" class=\"data row2 col1\" >67</td>\n",
       "      <td id=\"T_18fbc_row2_col2\" class=\"data row2 col2\" >18</td>\n",
       "      <td id=\"T_18fbc_row2_col3\" class=\"data row2 col3\" >100</td>\n",
       "      <td id=\"T_18fbc_row2_col4\" class=\"data row2 col4\" >9</td>\n",
       "      <td id=\"T_18fbc_row2_col5\" class=\"data row2 col5\" >121</td>\n",
       "      <td id=\"T_18fbc_row2_col6\" class=\"data row2 col6\" >18</td>\n",
       "      <td id=\"T_18fbc_row2_col7\" class=\"data row2 col7\" >12</td>\n",
       "      <td id=\"T_18fbc_row2_col8\" class=\"data row2 col8\" >11</td>\n",
       "      <td id=\"T_18fbc_row2_col9\" class=\"data row2 col9\" >130</td>\n",
       "      <td id=\"T_18fbc_row2_col10\" class=\"data row2 col10\" >143</td>\n",
       "      <td id=\"T_18fbc_row2_col11\" class=\"data row2 col11\" >5</td>\n",
       "      <td id=\"T_18fbc_row2_col12\" class=\"data row2 col12\" >3</td>\n",
       "      <td id=\"T_18fbc_row2_col13\" class=\"data row2 col13\" >3</td>\n",
       "      <td id=\"T_18fbc_row2_col14\" class=\"data row2 col14\" >2</td>\n",
       "      <td id=\"T_18fbc_row2_col15\" class=\"data row2 col15\" >210</td>\n",
       "      <td id=\"T_18fbc_row2_col16\" class=\"data row2 col16\" >3</td>\n",
       "      <td id=\"T_18fbc_row2_col17\" class=\"data row2 col17\" >7</td>\n",
       "      <td id=\"T_18fbc_row2_col18\" class=\"data row2 col18\" >8</td>\n",
       "      <td id=\"T_18fbc_row2_col19\" class=\"data row2 col19\" >2</td>\n",
       "      <td id=\"T_18fbc_row2_col20\" class=\"data row2 col20\" >734</td>\n",
       "      <td id=\"T_18fbc_row2_col21\" class=\"data row2 col21\" >6</td>\n",
       "      <td id=\"T_18fbc_row2_col22\" class=\"data row2 col22\" >55</td>\n",
       "      <td id=\"T_18fbc_row2_col23\" class=\"data row2 col23\" >1</td>\n",
       "      <td id=\"T_18fbc_row2_col24\" class=\"data row2 col24\" >217</td>\n",
       "      <td id=\"T_18fbc_row2_col25\" class=\"data row2 col25\" >22</td>\n",
       "      <td id=\"T_18fbc_row2_col26\" class=\"data row2 col26\" >1</td>\n",
       "      <td id=\"T_18fbc_row2_col27\" class=\"data row2 col27\" >80</td>\n",
       "      <td id=\"T_18fbc_row2_col28\" class=\"data row2 col28\" >56</td>\n",
       "      <td id=\"T_18fbc_row2_col29\" class=\"data row2 col29\" >3</td>\n",
       "      <td id=\"T_18fbc_row2_col30\" class=\"data row2 col30\" >6</td>\n",
       "      <td id=\"T_18fbc_row2_col31\" class=\"data row2 col31\" >11</td>\n",
       "      <td id=\"T_18fbc_row2_col32\" class=\"data row2 col32\" >1</td>\n",
       "      <td id=\"T_18fbc_row2_col33\" class=\"data row2 col33\" >4209</td>\n",
       "    </tr>\n",
       "  </tbody>\n",
       "</table>\n"
      ],
      "text/plain": [
       "<pandas.io.formats.style.Styler at 0x7fa527911e50>"
      ]
     },
     "execution_count": 121,
     "metadata": {},
     "output_type": "execute_result"
    }
   ],
   "source": [
    "# If smoking is used, daily consumption information (more detailed)\n",
    "pd.crosstab(df.currentSmoker,df.cigsPerDay,margins=True).style.background_gradient(cmap='summer_r')"
   ]
  },
  {
   "cell_type": "code",
   "execution_count": 122,
   "id": "c84032c3",
   "metadata": {},
   "outputs": [
    {
     "data": {
      "text/plain": [
       "cigsPerDay    18\n",
       "dtype: int64"
      ]
     },
     "execution_count": 122,
     "metadata": {},
     "output_type": "execute_result"
    }
   ],
   "source": [
    "# average daily consumption of smokers\n",
    "df[df['currentSmoker'] == 1][['cigsPerDay']].mean().astype('int64')"
   ]
  },
  {
   "cell_type": "code",
   "execution_count": 123,
   "id": "43aabe54",
   "metadata": {},
   "outputs": [
    {
     "data": {
      "image/png": "[encoded data removed]",
      "text/plain": [
       "<Figure size 1440x1080 with 4 Axes>"
      ]
     },
     "metadata": {
      "needs_background": "light"
     },
     "output_type": "display_data"
    }
   ],
   "source": [
    "f, ax = plt.subplots(2,2,figsize = (20,15))\n",
    "sns.countplot('prevalentHyp', hue='TenYearCHD',data=df,ax = ax[0,0], palette=\"Set3\")\n",
    "ax[0,0].set_title('prevalentHyp - TenYearCHD')\n",
    "sns.countplot('currentSmoker',hue='TenYearCHD',data=df,ax=ax[0,1], palette=\"Set3\")\n",
    "ax[0,1].set_title('currentSmoker - TenYearCHD')\n",
    "sns.countplot('diabetes',hue='TenYearCHD',data=df,ax=ax[1,0], palette=\"Set3\")\n",
    "ax[1,0].set_title('diabetes - TenYearCHD')\n",
    "sns.countplot('BPMeds',hue='TenYearCHD',data=df,ax=ax[1,1], palette=\"Set3\")\n",
    "ax[1,1].set_title('BPMeds - TenYearCHD')\n",
    "plt.subplots_adjust(wspace=0.2,hspace=0.5)\n",
    "plt.show()"
   ]
  },
  {
   "cell_type": "markdown",
   "id": "a40b50e7",
   "metadata": {},
   "source": [
    "---\n",
    ">> **As seen above; It can be said that smokers, users and people with different diseases (prevalence Hyp...) are at higher risk in general.**\n",
    "---"
   ]
  },
  {
   "cell_type": "code",
   "execution_count": 124,
   "id": "cdb2c8ab",
   "metadata": {},
   "outputs": [],
   "source": [
    "# Continous Feature --> totChol , glucose , heartRate , BMI , diaBP ,  sysBP "
   ]
  },
  {
   "cell_type": "code",
   "execution_count": 125,
   "id": "71ec0c3b",
   "metadata": {},
   "outputs": [],
   "source": [
    "# I will examine them whether there is a mutual relationship or not."
   ]
  },
  {
   "cell_type": "code",
   "execution_count": 126,
   "id": "b1031d39",
   "metadata": {},
   "outputs": [
    {
     "data": {
      "image/png": "[encoded data removed]",
      "text/plain": [
       "<Figure size 1080x1080 with 27 Axes>"
      ]
     },
     "metadata": {
      "needs_background": "light"
     },
     "output_type": "display_data"
    }
   ],
   "source": [
    "conti_features = ['totChol', 'glucose', 'heartRate', 'BMI', 'diaBP', 'sysBP']\n",
    "# Set corner = True to draw the bottom triangle only,\n",
    "sns.pairplot(df[conti_features], corner = True, diag_kind=\"kde\",\n",
    "            plot_kws=dict(marker=\"^\", linewidth=1));"
   ]
  },
  {
   "cell_type": "code",
   "execution_count": 127,
   "id": "9b167fab",
   "metadata": {},
   "outputs": [
    {
     "data": {
      "image/png": "[encoded data removed]",
      "text/plain": [
       "<Figure size 1440x1080 with 15 Axes>"
      ]
     },
     "metadata": {
      "needs_background": "light"
     },
     "output_type": "display_data"
    }
   ],
   "source": [
    "f, ax = plt.subplots(3,5,figsize = (20,15))\n",
    "\n",
    "\n",
    "#-------------------------------------------\n",
    "# sysBP - diaBP , BMI, heartRate , glucose , totChol\n",
    "\n",
    "sns.regplot(x=\"diaBP\", y=\"sysBP\", data=df, ax = ax[0,0])\n",
    "ax[0,0].set_title('diaBP - sysBP')\n",
    "sns.regplot(x=\"BMI\", y=\"sysBP\", data=df,ax=ax[0,1])\n",
    "ax[0,1].set_title('BMI - sysBP')\n",
    "sns.regplot(x=\"heartRate\", y=\"sysBP\", data=df, ax = ax[0,2])\n",
    "ax[0,2].set_title('heartRate - sysBP')\n",
    "sns.regplot(x=\"glucose\", y=\"sysBP\", data=df,ax=ax[0,3])\n",
    "ax[0,3].set_title('glucose - sysBP')\n",
    "sns.regplot(x=\"totChol\", y=\"sysBP\", data=df, ax = ax[0,4])\n",
    "ax[0,4].set_title('totChol - sysBP')\n",
    "\n",
    "#-------------------------------------------\n",
    "# diaBP - BMI, heartRate , glucose , totChol\n",
    "\n",
    "sns.regplot(x=\"BMI\", y=\"diaBP\", data=df, ax = ax[1,0])\n",
    "ax[1,0].set_title('BMI - diaBP')\n",
    "sns.regplot(x=\"heartRate\", y=\"diaBP\", data=df,ax=ax[1,1])\n",
    "ax[1,1].set_title('heartRate - diaBP')\n",
    "sns.regplot(x=\"glucose\", y=\"diaBP\", data=df, ax = ax[1,2])\n",
    "ax[1,2].set_title('heartRate - diaBP')\n",
    "sns.regplot(x=\"glucose\", y=\"diaBP\", data=df,ax=ax[1,3])\n",
    "ax[1,3].set_title('glucose - diaBP')\n",
    "sns.regplot(x=\"totChol\", y=\"diaBP\", data=df, ax = ax[1,4])\n",
    "ax[1,4].set_title('totChol - diaBP')\n",
    "\n",
    "#-------------------------------------------\n",
    "# BMI - heartRate , glucose , totChol\n",
    "\n",
    "sns.regplot(x=\"heartRate\", y=\"BMI\", data=df, ax = ax[2,0])\n",
    "ax[2,0].set_title('heartRate - BMI')\n",
    "sns.regplot(x=\"glucose\", y=\"BMI\", data=df,ax=ax[2,1])\n",
    "ax[2,1].set_title('glucose - BMI')\n",
    "sns.regplot(x=\"totChol\", y=\"BMI\", data=df, ax = ax[2,2])\n",
    "ax[2,2].set_title('totChol - BMI')\n",
    "\n",
    "#-------------------------------------------\n",
    "# heartRate -  glucose , totChol\n",
    "\n",
    "sns.regplot(x=\"glucose\", y=\"heartRate\", data=df,ax=ax[2,3])\n",
    "ax[2,3].set_title('glucose - heartRate')\n",
    "sns.regplot(x=\"totChol\", y=\"heartRate\", data=df, ax = ax[2,4])\n",
    "ax[2,4].set_title('totChol - heartRate')\n",
    "\n",
    "\n",
    "plt.subplots_adjust(wspace=0.2,hspace=0.5)\n",
    "plt.show()"
   ]
  },
  {
   "cell_type": "code",
   "execution_count": 128,
   "id": "89d7ecf8",
   "metadata": {},
   "outputs": [
    {
     "data": {
      "image/png": "[encoded data removed]",
      "text/plain": [
       "<Figure size 432x288 with 1 Axes>"
      ]
     },
     "metadata": {
      "needs_background": "light"
     },
     "output_type": "display_data"
    }
   ],
   "source": [
    "#-------------------------------------------\n",
    "# glucose - totChol \n",
    "\n",
    "sns.regplot(x=\"totChol\", y=\"glucose\", data=df);"
   ]
  },
  {
   "cell_type": "markdown",
   "id": "b605dd0a",
   "metadata": {},
   "source": [
    "---\n",
    "> **We can say that most of them have a somewhat positive relationship. Only diaBP - sysBP / BMI - diaBP seems to have a fairly high (ideal) positive correlation...**\n",
    "---"
   ]
  },
  {
   "cell_type": "markdown",
   "id": "6a7e6294",
   "metadata": {},
   "source": [
    "<h1><center>Correlation Between The Features</center></h1>\n",
    "\n",
    "---\n",
    "> **Let me briefly explain what correlation analysis is for those who don't know before I go on to interpretation,\n",
    "The correlation value is between -1 and 1. A value of 0 means that there is no correlation between the variables. As this value moves towards -1, it means 'Negative Perfect Correlation' and as it moves towards +1, it means 'Positive Perfect Correlation'.**\n",
    "---"
   ]
  },
  {
   "cell_type": "code",
   "execution_count": 129,
   "id": "0db0cf82",
   "metadata": {
    "scrolled": false
   },
   "outputs": [
    {
     "data": {
      "application/vnd.plotly.v1+json": {
       "config": {
        "plotlyServerURL": "https://plot.ly"
       },
       "data": [
        {
         "coloraxis": "coloraxis",
         "hovertemplate": "x: %{x}<br>y: %{y}<br>color: %{z}<extra></extra>",
         "name": "0",
         "texttemplate": "%{z}",
         "type": "heatmap",
         "x": [
          "male",
          "age",
          "education",
          "currentSmoker",
          "cigsPerDay",
          "BPMeds",
          "prevalentStroke",
          "prevalentHyp",
          "diabetes",
          "totChol",
          "sysBP",
          "diaBP",
          "BMI",
          "heartRate",
          "glucose",
          "TenYearCHD"
         ],
         "xaxis": "x",
         "y": [
          "male",
          "age",
          "education",
          "currentSmoker",
          "cigsPerDay",
          "BPMeds",
          "prevalentStroke",
          "prevalentHyp",
          "diabetes",
          "totChol",
          "sysBP",
          "diaBP",
          "BMI",
          "heartRate",
          "glucose",
          "TenYearCHD"
         ],
         "yaxis": "y",
         "z": [
          [
           1,
           -0.02897863938604286,
           0.01735197672631598,
           0.1975964735347461,
           0.31793005594171525,
           -0.05250614332830896,
           -0.004546326644938703,
           0.0053133490608055925,
           0.015707987432113265,
           -0.07032186088687752,
           -0.035989265418974334,
           0.057933468655128176,
           0.08167215398814777,
           -0.11661957511763056,
           0.006082510502238282,
           0.08842756735157493
          ],
          [
           -0.02897863938604286,
           1,
           -0.1658829364493281,
           -0.213747945265249,
           -0.1927908537098281,
           0.12299517407660093,
           0.05765481580465202,
           0.3071940768671203,
           0.10125768873071221,
           0.262131022498861,
           0.3943015379245825,
           0.20610398945367533,
           0.1357995683088472,
           -0.012822996650614205,
           0.12225578018944373,
           0.22525610383059044
          ],
          [
           0.01735197672631598,
           -0.1658829364493281,
           1,
           0.018531986685216415,
           0.008084781381301285,
           -0.010814936728227816,
           -0.03511248644944133,
           -0.08197022225908761,
           -0.0386803249967553,
           -0.023114759576968884,
           -0.1296309707717259,
           -0.06231638741285775,
           -0.13750394957497883,
           -0.05420602633370019,
           -0.03572092827488187,
           -0.05405895930035676
          ],
          [
           0.1975964735347461,
           -0.213747945265249,
           0.018531986685216415,
           1,
           0.769689956637912,
           -0.04893836130046455,
           -0.03298778653239857,
           -0.10325974038796312,
           -0.04429512082472811,
           -0.046562340716645154,
           -0.13023011587156863,
           -0.10774649457796896,
           -0.16765003793815433,
           0.06235550890614254,
           -0.05682622128922882,
           0.019456266284899725
          ],
          [
           0.31793005594171525,
           -0.1927908537098281,
           0.008084781381301285,
           0.769689956637912,
           1,
           -0.046133548718192294,
           -0.03270714967584387,
           -0.06614644134740454,
           -0.03706671622618704,
           -0.02631985724843176,
           -0.08877953294396243,
           -0.056632457312719,
           -0.09285600249518196,
           0.0751568718679917,
           -0.05895975679747391,
           0.057884258995742184
          ],
          [
           -0.05250614332830896,
           0.12299517407660093,
           -0.010814936728227816,
           -0.04893836130046455,
           -0.046133548718192294,
           1,
           0.1173647202710275,
           0.2611868186178432,
           0.05204674684028959,
           0.08055783845606404,
           0.2542189551392891,
           0.1942265042929355,
           0.10066817502474716,
           0.015233096426589106,
           0.051175810005965244,
           0.08748857747304171
          ],
          [
           -0.004546326644938703,
           0.05765481580465202,
           -0.03511248644944133,
           -0.03298778653239857,
           -0.03270714967584387,
           0.1173647202710275,
           1,
           0.0748296728205514,
           0.006949243086922416,
           6.676876003652282e-05,
           0.05700872197635178,
           0.04519024394350093,
           0.025891350097667517,
           -0.01767559511258004,
           0.0184306602475139,
           0.06180994607791267
          ],
          [
           0.0053133490608055925,
           0.3071940768671203,
           -0.08197022225908761,
           -0.10325974038796312,
           -0.06614644134740454,
           0.2611868186178432,
           0.0748296728205514,
           1,
           0.07780840922749512,
           0.16399310816401255,
           0.6967547676890465,
           0.6157514239418015,
           0.30131764849313075,
           0.14726077568203397,
           0.08683400191241139,
           0.17760273095315632
          ],
          [
           0.015707987432113265,
           0.10125768873071221,
           -0.0386803249967553,
           -0.04429512082472811,
           -0.03706671622618704,
           0.05204674684028959,
           0.006949243086922416,
           0.07780840922749512,
           1,
           0.04027823931055122,
           0.1112834330556605,
           0.05032923354166244,
           0.0870358967165062,
           0.048993606206791496,
           0.6176272006572058,
           0.09731651337479544
          ],
          [
           -0.07032186088687752,
           0.262131022498861,
           -0.023114759576968884,
           -0.046562340716645154,
           -0.02631985724843176,
           0.08055783845606404,
           6.676876003652282e-05,
           0.16399310816401255,
           0.04027823931055122,
           1,
           0.20890778923685652,
           0.16518237272578673,
           0.11576679334549483,
           0.09112473154225632,
           0.046407933445493696,
           0.08218428287803838
          ],
          [
           -0.035989265418974334,
           0.3943015379245825,
           -0.1296309707717259,
           -0.13023011587156863,
           -0.08877953294396243,
           0.2542189551392891,
           0.05700872197635178,
           0.6967547676890465,
           0.1112834330556605,
           0.20890778923685652,
           1,
           0.7840020914320167,
           0.3269805806268178,
           0.18224564765352985,
           0.1406211035672922,
           0.21642903925772902
          ],
          [
           0.057933468655128176,
           0.20610398945367533,
           -0.06231638741285775,
           -0.10774649457796896,
           -0.056632457312719,
           0.1942265042929355,
           0.04519024394350093,
           0.6157514239418015,
           0.05032923354166244,
           0.16518237272578673,
           0.7840020914320167,
           1,
           0.3775876557799641,
           0.18125506498482627,
           0.06123137879261275,
           0.14529910399806262
          ],
          [
           0.08167215398814777,
           0.1357995683088472,
           -0.13750394957497883,
           -0.16765003793815433,
           -0.09285600249518196,
           0.10066817502474716,
           0.025891350097667517,
           0.30131764849313075,
           0.0870358967165062,
           0.11576679334549483,
           0.3269805806268178,
           0.3775876557799641,
           1,
           0.0676784342830937,
           0.08737654813879023,
           0.07519192600398175
          ],
          [
           -0.11661957511763056,
           -0.012822996650614205,
           -0.05420602633370019,
           0.06235550890614254,
           0.0751568718679917,
           0.015233096426589106,
           -0.01767559511258004,
           0.14726077568203397,
           0.048993606206791496,
           0.09112473154225632,
           0.18224564765352985,
           0.18125506498482627,
           0.0676784342830937,
           1,
           0.09450011786422341,
           0.022912612511118053
          ],
          [
           0.006082510502238282,
           0.12225578018944373,
           -0.03572092827488187,
           -0.05682622128922882,
           -0.05895975679747391,
           0.051175810005965244,
           0.0184306602475139,
           0.08683400191241139,
           0.6176272006572058,
           0.046407933445493696,
           0.1406211035672922,
           0.06123137879261275,
           0.08737654813879023,
           0.09450011786422341,
           1,
           0.12554400159795967
          ],
          [
           0.08842756735157493,
           0.22525610383059044,
           -0.05405895930035676,
           0.019456266284899725,
           0.057884258995742184,
           0.08748857747304171,
           0.06180994607791267,
           0.17760273095315632,
           0.09731651337479544,
           0.08218428287803838,
           0.21642903925772902,
           0.14529910399806262,
           0.07519192600398175,
           0.022912612511118053,
           0.12554400159795967,
           1
          ]
         ]
        }
       ],
       "layout": {
        "autosize": false,
        "coloraxis": {
         "colorscale": [
          [
           0,
           "#0d0887"
          ],
          [
           0.1111111111111111,
           "#46039f"
          ],
          [
           0.2222222222222222,
           "#7201a8"
          ],
          [
           0.3333333333333333,
           "#9c179e"
          ],
          [
           0.4444444444444444,
           "#bd3786"
          ],
          [
           0.5555555555555556,
           "#d8576b"
          ],
          [
           0.6666666666666666,
           "#ed7953"
          ],
          [
           0.7777777777777778,
           "#fb9f3a"
          ],
          [
           0.8888888888888888,
           "#fdca26"
          ],
          [
           1,
           "#f0f921"
          ]
         ]
        },
        "height": 800,
        "hovermode": "x",
        "margin": {
         "t": 60
        },
        "template": {
         "data": {
          "bar": [
           {
            "error_x": {
             "color": "#2a3f5f"
            },
            "error_y": {
             "color": "#2a3f5f"
            },
            "marker": {
             "line": {
              "color": "#E5ECF6",
              "width": 0.5
             },
             "pattern": {
              "fillmode": "overlay",
              "size": 10,
              "solidity": 0.2
             }
            },
            "type": "bar"
           }
          ],
          "barpolar": [
           {
            "marker": {
             "line": {
              "color": "#E5ECF6",
              "width": 0.5
             },
             "pattern": {
              "fillmode": "overlay",
              "size": 10,
              "solidity": 0.2
             }
            },
            "type": "barpolar"
           }
          ],
          "carpet": [
           {
            "aaxis": {
             "endlinecolor": "#2a3f5f",
             "gridcolor": "white",
             "linecolor": "white",
             "minorgridcolor": "white",
             "startlinecolor": "#2a3f5f"
            },
            "baxis": {
             "endlinecolor": "#2a3f5f",
             "gridcolor": "white",
             "linecolor": "white",
             "minorgridcolor": "white",
             "startlinecolor": "#2a3f5f"
            },
            "type": "carpet"
           }
          ],
          "choropleth": [
           {
            "colorbar": {
             "outlinewidth": 0,
             "ticks": ""
            },
            "type": "choropleth"
           }
          ],
          "contour": [
           {
            "colorbar": {
             "outlinewidth": 0,
             "ticks": ""
            },
            "colorscale": [
             [
              0,
              "#0d0887"
             ],
             [
              0.1111111111111111,
              "#46039f"
             ],
             [
              0.2222222222222222,
              "#7201a8"
             ],
             [
              0.3333333333333333,
              "#9c179e"
             ],
             [
              0.4444444444444444,
              "#bd3786"
             ],
             [
              0.5555555555555556,
              "#d8576b"
             ],
             [
              0.6666666666666666,
              "#ed7953"
             ],
             [
              0.7777777777777778,
              "#fb9f3a"
             ],
             [
              0.8888888888888888,
              "#fdca26"
             ],
             [
              1,
              "#f0f921"
             ]
            ],
            "type": "contour"
           }
          ],
          "contourcarpet": [
           {
            "colorbar": {
             "outlinewidth": 0,
             "ticks": ""
            },
            "type": "contourcarpet"
           }
          ],
          "heatmap": [
           {
            "colorbar": {
             "outlinewidth": 0,
             "ticks": ""
            },
            "colorscale": [
             [
              0,
              "#0d0887"
             ],
             [
              0.1111111111111111,
              "#46039f"
             ],
             [
              0.2222222222222222,
              "#7201a8"
             ],
             [
              0.3333333333333333,
              "#9c179e"
             ],
             [
              0.4444444444444444,
              "#bd3786"
             ],
             [
              0.5555555555555556,
              "#d8576b"
             ],
             [
              0.6666666666666666,
              "#ed7953"
             ],
             [
              0.7777777777777778,
              "#fb9f3a"
             ],
             [
              0.8888888888888888,
              "#fdca26"
             ],
             [
              1,
              "#f0f921"
             ]
            ],
            "type": "heatmap"
           }
          ],
          "heatmapgl": [
           {
            "colorbar": {
             "outlinewidth": 0,
             "ticks": ""
            },
            "colorscale": [
             [
              0,
              "#0d0887"
             ],
             [
              0.1111111111111111,
              "#46039f"
             ],
             [
              0.2222222222222222,
              "#7201a8"
             ],
             [
              0.3333333333333333,
              "#9c179e"
             ],
             [
              0.4444444444444444,
              "#bd3786"
             ],
             [
              0.5555555555555556,
              "#d8576b"
             ],
             [
              0.6666666666666666,
              "#ed7953"
             ],
             [
              0.7777777777777778,
              "#fb9f3a"
             ],
             [
              0.8888888888888888,
              "#fdca26"
             ],
             [
              1,
              "#f0f921"
             ]
            ],
            "type": "heatmapgl"
           }
          ],
          "histogram": [
           {
            "marker": {
             "pattern": {
              "fillmode": "overlay",
              "size": 10,
              "solidity": 0.2
             }
            },
            "type": "histogram"
           }
          ],
          "histogram2d": [
           {
            "colorbar": {
             "outlinewidth": 0,
             "ticks": ""
            },
            "colorscale": [
             [
              0,
              "#0d0887"
             ],
             [
              0.1111111111111111,
              "#46039f"
             ],
             [
              0.2222222222222222,
              "#7201a8"
             ],
             [
              0.3333333333333333,
              "#9c179e"
             ],
             [
              0.4444444444444444,
              "#bd3786"
             ],
             [
              0.5555555555555556,
              "#d8576b"
             ],
             [
              0.6666666666666666,
              "#ed7953"
             ],
             [
              0.7777777777777778,
              "#fb9f3a"
             ],
             [
              0.8888888888888888,
              "#fdca26"
             ],
             [
              1,
              "#f0f921"
             ]
            ],
            "type": "histogram2d"
           }
          ],
          "histogram2dcontour": [
           {
            "colorbar": {
             "outlinewidth": 0,
             "ticks": ""
            },
            "colorscale": [
             [
              0,
              "#0d0887"
             ],
             [
              0.1111111111111111,
              "#46039f"
             ],
             [
              0.2222222222222222,
              "#7201a8"
             ],
             [
              0.3333333333333333,
              "#9c179e"
             ],
             [
              0.4444444444444444,
              "#bd3786"
             ],
             [
              0.5555555555555556,
              "#d8576b"
             ],
             [
              0.6666666666666666,
              "#ed7953"
             ],
             [
              0.7777777777777778,
              "#fb9f3a"
             ],
             [
              0.8888888888888888,
              "#fdca26"
             ],
             [
              1,
              "#f0f921"
             ]
            ],
            "type": "histogram2dcontour"
           }
          ],
          "mesh3d": [
           {
            "colorbar": {
             "outlinewidth": 0,
             "ticks": ""
            },
            "type": "mesh3d"
           }
          ],
          "parcoords": [
           {
            "line": {
             "colorbar": {
              "outlinewidth": 0,
              "ticks": ""
             }
            },
            "type": "parcoords"
           }
          ],
          "pie": [
           {
            "automargin": true,
            "type": "pie"
           }
          ],
          "scatter": [
           {
            "fillpattern": {
             "fillmode": "overlay",
             "size": 10,
             "solidity": 0.2
            },
            "type": "scatter"
           }
          ],
          "scatter3d": [
           {
            "line": {
             "colorbar": {
              "outlinewidth": 0,
              "ticks": ""
             }
            },
            "marker": {
             "colorbar": {
              "outlinewidth": 0,
              "ticks": ""
             }
            },
            "type": "scatter3d"
           }
          ],
          "scattercarpet": [
           {
            "marker": {
             "colorbar": {
              "outlinewidth": 0,
              "ticks": ""
             }
            },
            "type": "scattercarpet"
           }
          ],
          "scattergeo": [
           {
            "marker": {
             "colorbar": {
              "outlinewidth": 0,
              "ticks": ""
             }
            },
            "type": "scattergeo"
           }
          ],
          "scattergl": [
           {
            "marker": {
             "colorbar": {
              "outlinewidth": 0,
              "ticks": ""
             }
            },
            "type": "scattergl"
           }
          ],
          "scattermapbox": [
           {
            "marker": {
             "colorbar": {
              "outlinewidth": 0,
              "ticks": ""
             }
            },
            "type": "scattermapbox"
           }
          ],
          "scatterpolar": [
           {
            "marker": {
             "colorbar": {
              "outlinewidth": 0,
              "ticks": ""
             }
            },
            "type": "scatterpolar"
           }
          ],
          "scatterpolargl": [
           {
            "marker": {
             "colorbar": {
              "outlinewidth": 0,
              "ticks": ""
             }
            },
            "type": "scatterpolargl"
           }
          ],
          "scatterternary": [
           {
            "marker": {
             "colorbar": {
              "outlinewidth": 0,
              "ticks": ""
             }
            },
            "type": "scatterternary"
           }
          ],
          "surface": [
           {
            "colorbar": {
             "outlinewidth": 0,
             "ticks": ""
            },
            "colorscale": [
             [
              0,
              "#0d0887"
             ],
             [
              0.1111111111111111,
              "#46039f"
             ],
             [
              0.2222222222222222,
              "#7201a8"
             ],
             [
              0.3333333333333333,
              "#9c179e"
             ],
             [
              0.4444444444444444,
              "#bd3786"
             ],
             [
              0.5555555555555556,
              "#d8576b"
             ],
             [
              0.6666666666666666,
              "#ed7953"
             ],
             [
              0.7777777777777778,
              "#fb9f3a"
             ],
             [
              0.8888888888888888,
              "#fdca26"
             ],
             [
              1,
              "#f0f921"
             ]
            ],
            "type": "surface"
           }
          ],
          "table": [
           {
            "cells": {
             "fill": {
              "color": "#EBF0F8"
             },
             "line": {
              "color": "white"
             }
            },
            "header": {
             "fill": {
              "color": "#C8D4E3"
             },
             "line": {
              "color": "white"
             }
            },
            "type": "table"
           }
          ]
         },
         "layout": {
          "annotationdefaults": {
           "arrowcolor": "#2a3f5f",
           "arrowhead": 0,
           "arrowwidth": 1
          },
          "autotypenumbers": "strict",
          "coloraxis": {
           "colorbar": {
            "outlinewidth": 0,
            "ticks": ""
           }
          },
          "colorscale": {
           "diverging": [
            [
             0,
             "#8e0152"
            ],
            [
             0.1,
             "#c51b7d"
            ],
            [
             0.2,
             "#de77ae"
            ],
            [
             0.3,
             "#f1b6da"
            ],
            [
             0.4,
             "#fde0ef"
            ],
            [
             0.5,
             "#f7f7f7"
            ],
            [
             0.6,
             "#e6f5d0"
            ],
            [
             0.7,
             "#b8e186"
            ],
            [
             0.8,
             "#7fbc41"
            ],
            [
             0.9,
             "#4d9221"
            ],
            [
             1,
             "#276419"
            ]
           ],
           "sequential": [
            [
             0,
             "#0d0887"
            ],
            [
             0.1111111111111111,
             "#46039f"
            ],
            [
             0.2222222222222222,
             "#7201a8"
            ],
            [
             0.3333333333333333,
             "#9c179e"
            ],
            [
             0.4444444444444444,
             "#bd3786"
            ],
            [
             0.5555555555555556,
             "#d8576b"
            ],
            [
             0.6666666666666666,
             "#ed7953"
            ],
            [
             0.7777777777777778,
             "#fb9f3a"
            ],
            [
             0.8888888888888888,
             "#fdca26"
            ],
            [
             1,
             "#f0f921"
            ]
           ],
           "sequentialminus": [
            [
             0,
             "#0d0887"
            ],
            [
             0.1111111111111111,
             "#46039f"
            ],
            [
             0.2222222222222222,
             "#7201a8"
            ],
            [
             0.3333333333333333,
             "#9c179e"
            ],
            [
             0.4444444444444444,
             "#bd3786"
            ],
            [
             0.5555555555555556,
             "#d8576b"
            ],
            [
             0.6666666666666666,
             "#ed7953"
            ],
            [
             0.7777777777777778,
             "#fb9f3a"
            ],
            [
             0.8888888888888888,
             "#fdca26"
            ],
            [
             1,
             "#f0f921"
            ]
           ]
          },
          "colorway": [
           "#636efa",
           "#EF553B",
           "#00cc96",
           "#ab63fa",
           "#FFA15A",
           "#19d3f3",
           "#FF6692",
           "#B6E880",
           "#FF97FF",
           "#FECB52"
          ],
          "font": {
           "color": "#2a3f5f"
          },
          "geo": {
           "bgcolor": "white",
           "lakecolor": "white",
           "landcolor": "#E5ECF6",
           "showlakes": true,
           "showland": true,
           "subunitcolor": "white"
          },
          "hoverlabel": {
           "align": "left"
          },
          "hovermode": "closest",
          "mapbox": {
           "style": "light"
          },
          "paper_bgcolor": "white",
          "plot_bgcolor": "#E5ECF6",
          "polar": {
           "angularaxis": {
            "gridcolor": "white",
            "linecolor": "white",
            "ticks": ""
           },
           "bgcolor": "#E5ECF6",
           "radialaxis": {
            "gridcolor": "white",
            "linecolor": "white",
            "ticks": ""
           }
          },
          "scene": {
           "xaxis": {
            "backgroundcolor": "#E5ECF6",
            "gridcolor": "white",
            "gridwidth": 2,
            "linecolor": "white",
            "showbackground": true,
            "ticks": "",
            "zerolinecolor": "white"
           },
           "yaxis": {
            "backgroundcolor": "#E5ECF6",
            "gridcolor": "white",
            "gridwidth": 2,
            "linecolor": "white",
            "showbackground": true,
            "ticks": "",
            "zerolinecolor": "white"
           },
           "zaxis": {
            "backgroundcolor": "#E5ECF6",
            "gridcolor": "white",
            "gridwidth": 2,
            "linecolor": "white",
            "showbackground": true,
            "ticks": "",
            "zerolinecolor": "white"
           }
          },
          "shapedefaults": {
           "line": {
            "color": "#2a3f5f"
           }
          },
          "ternary": {
           "aaxis": {
            "gridcolor": "white",
            "linecolor": "white",
            "ticks": ""
           },
           "baxis": {
            "gridcolor": "white",
            "linecolor": "white",
            "ticks": ""
           },
           "bgcolor": "#E5ECF6",
           "caxis": {
            "gridcolor": "white",
            "linecolor": "white",
            "ticks": ""
           }
          },
          "title": {
           "x": 0.05
          },
          "xaxis": {
           "automargin": true,
           "gridcolor": "white",
           "linecolor": "white",
           "ticks": "",
           "title": {
            "standoff": 15
           },
           "zerolinecolor": "white",
           "zerolinewidth": 2
          },
          "yaxis": {
           "automargin": true,
           "gridcolor": "white",
           "linecolor": "white",
           "ticks": "",
           "title": {
            "standoff": 15
           },
           "zerolinecolor": "white",
           "zerolinewidth": 2
          }
         }
        },
        "width": 1000,
        "xaxis": {
         "anchor": "y",
         "constrain": "domain",
         "domain": [
          0,
          1
         ],
         "scaleanchor": "y"
        },
        "yaxis": {
         "anchor": "x",
         "autorange": "reversed",
         "constrain": "domain",
         "domain": [
          0,
          1
         ]
        }
       }
      },
      "text/html": [
       "<div>                            <div id=\"c99851e7-207b-4cbf-afe2-f8b0ac6d9fb8\" class=\"plotly-graph-div\" style=\"height:800px; width:1000px;\"></div>            <script type=\"text/javascript\">                require([\"plotly\"], function(Plotly) {                    window.PLOTLYENV=window.PLOTLYENV || {};                                    if (document.getElementById(\"c99851e7-207b-4cbf-afe2-f8b0ac6d9fb8\")) {                    Plotly.newPlot(                        \"c99851e7-207b-4cbf-afe2-f8b0ac6d9fb8\",                        [{\"coloraxis\":\"coloraxis\",\"name\":\"0\",\"texttemplate\":\"%{z}\",\"x\":[\"male\",\"age\",\"education\",\"currentSmoker\",\"cigsPerDay\",\"BPMeds\",\"prevalentStroke\",\"prevalentHyp\",\"diabetes\",\"totChol\",\"sysBP\",\"diaBP\",\"BMI\",\"heartRate\",\"glucose\",\"TenYearCHD\"],\"y\":[\"male\",\"age\",\"education\",\"currentSmoker\",\"cigsPerDay\",\"BPMeds\",\"prevalentStroke\",\"prevalentHyp\",\"diabetes\",\"totChol\",\"sysBP\",\"diaBP\",\"BMI\",\"heartRate\",\"glucose\",\"TenYearCHD\"],\"z\":[[1.0,-0.02897863938604286,0.01735197672631598,0.1975964735347461,0.31793005594171525,-0.05250614332830896,-0.004546326644938703,0.0053133490608055925,0.015707987432113265,-0.07032186088687752,-0.035989265418974334,0.057933468655128176,0.08167215398814777,-0.11661957511763056,0.006082510502238282,0.08842756735157493],[-0.02897863938604286,1.0,-0.1658829364493281,-0.213747945265249,-0.1927908537098281,0.12299517407660093,0.05765481580465202,0.3071940768671203,0.10125768873071221,0.262131022498861,0.3943015379245825,0.20610398945367533,0.1357995683088472,-0.012822996650614205,0.12225578018944373,0.22525610383059044],[0.01735197672631598,-0.1658829364493281,1.0,0.018531986685216415,0.008084781381301285,-0.010814936728227816,-0.03511248644944133,-0.08197022225908761,-0.0386803249967553,-0.023114759576968884,-0.1296309707717259,-0.06231638741285775,-0.13750394957497883,-0.05420602633370019,-0.03572092827488187,-0.05405895930035676],[0.1975964735347461,-0.213747945265249,0.018531986685216415,1.0,0.769689956637912,-0.04893836130046455,-0.03298778653239857,-0.10325974038796312,-0.04429512082472811,-0.046562340716645154,-0.13023011587156863,-0.10774649457796896,-0.16765003793815433,0.06235550890614254,-0.05682622128922882,0.019456266284899725],[0.31793005594171525,-0.1927908537098281,0.008084781381301285,0.769689956637912,1.0,-0.046133548718192294,-0.03270714967584387,-0.06614644134740454,-0.03706671622618704,-0.02631985724843176,-0.08877953294396243,-0.056632457312719,-0.09285600249518196,0.0751568718679917,-0.05895975679747391,0.057884258995742184],[-0.05250614332830896,0.12299517407660093,-0.010814936728227816,-0.04893836130046455,-0.046133548718192294,1.0,0.1173647202710275,0.2611868186178432,0.05204674684028959,0.08055783845606404,0.2542189551392891,0.1942265042929355,0.10066817502474716,0.015233096426589106,0.051175810005965244,0.08748857747304171],[-0.004546326644938703,0.05765481580465202,-0.03511248644944133,-0.03298778653239857,-0.03270714967584387,0.1173647202710275,1.0,0.0748296728205514,0.006949243086922416,6.676876003652282e-05,0.05700872197635178,0.04519024394350093,0.025891350097667517,-0.01767559511258004,0.0184306602475139,0.06180994607791267],[0.0053133490608055925,0.3071940768671203,-0.08197022225908761,-0.10325974038796312,-0.06614644134740454,0.2611868186178432,0.0748296728205514,1.0,0.07780840922749512,0.16399310816401255,0.6967547676890465,0.6157514239418015,0.30131764849313075,0.14726077568203397,0.08683400191241139,0.17760273095315632],[0.015707987432113265,0.10125768873071221,-0.0386803249967553,-0.04429512082472811,-0.03706671622618704,0.05204674684028959,0.006949243086922416,0.07780840922749512,1.0,0.04027823931055122,0.1112834330556605,0.05032923354166244,0.0870358967165062,0.048993606206791496,0.6176272006572058,0.09731651337479544],[-0.07032186088687752,0.262131022498861,-0.023114759576968884,-0.046562340716645154,-0.02631985724843176,0.08055783845606404,6.676876003652282e-05,0.16399310816401255,0.04027823931055122,1.0,0.20890778923685652,0.16518237272578673,0.11576679334549483,0.09112473154225632,0.046407933445493696,0.08218428287803838],[-0.035989265418974334,0.3943015379245825,-0.1296309707717259,-0.13023011587156863,-0.08877953294396243,0.2542189551392891,0.05700872197635178,0.6967547676890465,0.1112834330556605,0.20890778923685652,1.0,0.7840020914320167,0.3269805806268178,0.18224564765352985,0.1406211035672922,0.21642903925772902],[0.057933468655128176,0.20610398945367533,-0.06231638741285775,-0.10774649457796896,-0.056632457312719,0.1942265042929355,0.04519024394350093,0.6157514239418015,0.05032923354166244,0.16518237272578673,0.7840020914320167,1.0,0.3775876557799641,0.18125506498482627,0.06123137879261275,0.14529910399806262],[0.08167215398814777,0.1357995683088472,-0.13750394957497883,-0.16765003793815433,-0.09285600249518196,0.10066817502474716,0.025891350097667517,0.30131764849313075,0.0870358967165062,0.11576679334549483,0.3269805806268178,0.3775876557799641,1.0,0.0676784342830937,0.08737654813879023,0.07519192600398175],[-0.11661957511763056,-0.012822996650614205,-0.05420602633370019,0.06235550890614254,0.0751568718679917,0.015233096426589106,-0.01767559511258004,0.14726077568203397,0.048993606206791496,0.09112473154225632,0.18224564765352985,0.18125506498482627,0.0676784342830937,1.0,0.09450011786422341,0.022912612511118053],[0.006082510502238282,0.12225578018944373,-0.03572092827488187,-0.05682622128922882,-0.05895975679747391,0.051175810005965244,0.0184306602475139,0.08683400191241139,0.6176272006572058,0.046407933445493696,0.1406211035672922,0.06123137879261275,0.08737654813879023,0.09450011786422341,1.0,0.12554400159795967],[0.08842756735157493,0.22525610383059044,-0.05405895930035676,0.019456266284899725,0.057884258995742184,0.08748857747304171,0.06180994607791267,0.17760273095315632,0.09731651337479544,0.08218428287803838,0.21642903925772902,0.14529910399806262,0.07519192600398175,0.022912612511118053,0.12554400159795967,1.0]],\"type\":\"heatmap\",\"xaxis\":\"x\",\"yaxis\":\"y\",\"hovertemplate\":\"x: %{x}<br>y: %{y}<br>color: %{z}<extra></extra>\"}],                        {\"template\":{\"data\":{\"histogram2dcontour\":[{\"type\":\"histogram2dcontour\",\"colorbar\":{\"outlinewidth\":0,\"ticks\":\"\"},\"colorscale\":[[0.0,\"#0d0887\"],[0.1111111111111111,\"#46039f\"],[0.2222222222222222,\"#7201a8\"],[0.3333333333333333,\"#9c179e\"],[0.4444444444444444,\"#bd3786\"],[0.5555555555555556,\"#d8576b\"],[0.6666666666666666,\"#ed7953\"],[0.7777777777777778,\"#fb9f3a\"],[0.8888888888888888,\"#fdca26\"],[1.0,\"#f0f921\"]]}],\"choropleth\":[{\"type\":\"choropleth\",\"colorbar\":{\"outlinewidth\":0,\"ticks\":\"\"}}],\"histogram2d\":[{\"type\":\"histogram2d\",\"colorbar\":{\"outlinewidth\":0,\"ticks\":\"\"},\"colorscale\":[[0.0,\"#0d0887\"],[0.1111111111111111,\"#46039f\"],[0.2222222222222222,\"#7201a8\"],[0.3333333333333333,\"#9c179e\"],[0.4444444444444444,\"#bd3786\"],[0.5555555555555556,\"#d8576b\"],[0.6666666666666666,\"#ed7953\"],[0.7777777777777778,\"#fb9f3a\"],[0.8888888888888888,\"#fdca26\"],[1.0,\"#f0f921\"]]}],\"heatmap\":[{\"type\":\"heatmap\",\"colorbar\":{\"outlinewidth\":0,\"ticks\":\"\"},\"colorscale\":[[0.0,\"#0d0887\"],[0.1111111111111111,\"#46039f\"],[0.2222222222222222,\"#7201a8\"],[0.3333333333333333,\"#9c179e\"],[0.4444444444444444,\"#bd3786\"],[0.5555555555555556,\"#d8576b\"],[0.6666666666666666,\"#ed7953\"],[0.7777777777777778,\"#fb9f3a\"],[0.8888888888888888,\"#fdca26\"],[1.0,\"#f0f921\"]]}],\"heatmapgl\":[{\"type\":\"heatmapgl\",\"colorbar\":{\"outlinewidth\":0,\"ticks\":\"\"},\"colorscale\":[[0.0,\"#0d0887\"],[0.1111111111111111,\"#46039f\"],[0.2222222222222222,\"#7201a8\"],[0.3333333333333333,\"#9c179e\"],[0.4444444444444444,\"#bd3786\"],[0.5555555555555556,\"#d8576b\"],[0.6666666666666666,\"#ed7953\"],[0.7777777777777778,\"#fb9f3a\"],[0.8888888888888888,\"#fdca26\"],[1.0,\"#f0f921\"]]}],\"contourcarpet\":[{\"type\":\"contourcarpet\",\"colorbar\":{\"outlinewidth\":0,\"ticks\":\"\"}}],\"contour\":[{\"type\":\"contour\",\"colorbar\":{\"outlinewidth\":0,\"ticks\":\"\"},\"colorscale\":[[0.0,\"#0d0887\"],[0.1111111111111111,\"#46039f\"],[0.2222222222222222,\"#7201a8\"],[0.3333333333333333,\"#9c179e\"],[0.4444444444444444,\"#bd3786\"],[0.5555555555555556,\"#d8576b\"],[0.6666666666666666,\"#ed7953\"],[0.7777777777777778,\"#fb9f3a\"],[0.8888888888888888,\"#fdca26\"],[1.0,\"#f0f921\"]]}],\"surface\":[{\"type\":\"surface\",\"colorbar\":{\"outlinewidth\":0,\"ticks\":\"\"},\"colorscale\":[[0.0,\"#0d0887\"],[0.1111111111111111,\"#46039f\"],[0.2222222222222222,\"#7201a8\"],[0.3333333333333333,\"#9c179e\"],[0.4444444444444444,\"#bd3786\"],[0.5555555555555556,\"#d8576b\"],[0.6666666666666666,\"#ed7953\"],[0.7777777777777778,\"#fb9f3a\"],[0.8888888888888888,\"#fdca26\"],[1.0,\"#f0f921\"]]}],\"mesh3d\":[{\"type\":\"mesh3d\",\"colorbar\":{\"outlinewidth\":0,\"ticks\":\"\"}}],\"scatter\":[{\"fillpattern\":{\"fillmode\":\"overlay\",\"size\":10,\"solidity\":0.2},\"type\":\"scatter\"}],\"parcoords\":[{\"type\":\"parcoords\",\"line\":{\"colorbar\":{\"outlinewidth\":0,\"ticks\":\"\"}}}],\"scatterpolargl\":[{\"type\":\"scatterpolargl\",\"marker\":{\"colorbar\":{\"outlinewidth\":0,\"ticks\":\"\"}}}],\"bar\":[{\"error_x\":{\"color\":\"#2a3f5f\"},\"error_y\":{\"color\":\"#2a3f5f\"},\"marker\":{\"line\":{\"color\":\"#E5ECF6\",\"width\":0.5},\"pattern\":{\"fillmode\":\"overlay\",\"size\":10,\"solidity\":0.2}},\"type\":\"bar\"}],\"scattergeo\":[{\"type\":\"scattergeo\",\"marker\":{\"colorbar\":{\"outlinewidth\":0,\"ticks\":\"\"}}}],\"scatterpolar\":[{\"type\":\"scatterpolar\",\"marker\":{\"colorbar\":{\"outlinewidth\":0,\"ticks\":\"\"}}}],\"histogram\":[{\"marker\":{\"pattern\":{\"fillmode\":\"overlay\",\"size\":10,\"solidity\":0.2}},\"type\":\"histogram\"}],\"scattergl\":[{\"type\":\"scattergl\",\"marker\":{\"colorbar\":{\"outlinewidth\":0,\"ticks\":\"\"}}}],\"scatter3d\":[{\"type\":\"scatter3d\",\"line\":{\"colorbar\":{\"outlinewidth\":0,\"ticks\":\"\"}},\"marker\":{\"colorbar\":{\"outlinewidth\":0,\"ticks\":\"\"}}}],\"scattermapbox\":[{\"type\":\"scattermapbox\",\"marker\":{\"colorbar\":{\"outlinewidth\":0,\"ticks\":\"\"}}}],\"scatterternary\":[{\"type\":\"scatterternary\",\"marker\":{\"colorbar\":{\"outlinewidth\":0,\"ticks\":\"\"}}}],\"scattercarpet\":[{\"type\":\"scattercarpet\",\"marker\":{\"colorbar\":{\"outlinewidth\":0,\"ticks\":\"\"}}}],\"carpet\":[{\"aaxis\":{\"endlinecolor\":\"#2a3f5f\",\"gridcolor\":\"white\",\"linecolor\":\"white\",\"minorgridcolor\":\"white\",\"startlinecolor\":\"#2a3f5f\"},\"baxis\":{\"endlinecolor\":\"#2a3f5f\",\"gridcolor\":\"white\",\"linecolor\":\"white\",\"minorgridcolor\":\"white\",\"startlinecolor\":\"#2a3f5f\"},\"type\":\"carpet\"}],\"table\":[{\"cells\":{\"fill\":{\"color\":\"#EBF0F8\"},\"line\":{\"color\":\"white\"}},\"header\":{\"fill\":{\"color\":\"#C8D4E3\"},\"line\":{\"color\":\"white\"}},\"type\":\"table\"}],\"barpolar\":[{\"marker\":{\"line\":{\"color\":\"#E5ECF6\",\"width\":0.5},\"pattern\":{\"fillmode\":\"overlay\",\"size\":10,\"solidity\":0.2}},\"type\":\"barpolar\"}],\"pie\":[{\"automargin\":true,\"type\":\"pie\"}]},\"layout\":{\"autotypenumbers\":\"strict\",\"colorway\":[\"#636efa\",\"#EF553B\",\"#00cc96\",\"#ab63fa\",\"#FFA15A\",\"#19d3f3\",\"#FF6692\",\"#B6E880\",\"#FF97FF\",\"#FECB52\"],\"font\":{\"color\":\"#2a3f5f\"},\"hovermode\":\"closest\",\"hoverlabel\":{\"align\":\"left\"},\"paper_bgcolor\":\"white\",\"plot_bgcolor\":\"#E5ECF6\",\"polar\":{\"bgcolor\":\"#E5ECF6\",\"angularaxis\":{\"gridcolor\":\"white\",\"linecolor\":\"white\",\"ticks\":\"\"},\"radialaxis\":{\"gridcolor\":\"white\",\"linecolor\":\"white\",\"ticks\":\"\"}},\"ternary\":{\"bgcolor\":\"#E5ECF6\",\"aaxis\":{\"gridcolor\":\"white\",\"linecolor\":\"white\",\"ticks\":\"\"},\"baxis\":{\"gridcolor\":\"white\",\"linecolor\":\"white\",\"ticks\":\"\"},\"caxis\":{\"gridcolor\":\"white\",\"linecolor\":\"white\",\"ticks\":\"\"}},\"coloraxis\":{\"colorbar\":{\"outlinewidth\":0,\"ticks\":\"\"}},\"colorscale\":{\"sequential\":[[0.0,\"#0d0887\"],[0.1111111111111111,\"#46039f\"],[0.2222222222222222,\"#7201a8\"],[0.3333333333333333,\"#9c179e\"],[0.4444444444444444,\"#bd3786\"],[0.5555555555555556,\"#d8576b\"],[0.6666666666666666,\"#ed7953\"],[0.7777777777777778,\"#fb9f3a\"],[0.8888888888888888,\"#fdca26\"],[1.0,\"#f0f921\"]],\"sequentialminus\":[[0.0,\"#0d0887\"],[0.1111111111111111,\"#46039f\"],[0.2222222222222222,\"#7201a8\"],[0.3333333333333333,\"#9c179e\"],[0.4444444444444444,\"#bd3786\"],[0.5555555555555556,\"#d8576b\"],[0.6666666666666666,\"#ed7953\"],[0.7777777777777778,\"#fb9f3a\"],[0.8888888888888888,\"#fdca26\"],[1.0,\"#f0f921\"]],\"diverging\":[[0,\"#8e0152\"],[0.1,\"#c51b7d\"],[0.2,\"#de77ae\"],[0.3,\"#f1b6da\"],[0.4,\"#fde0ef\"],[0.5,\"#f7f7f7\"],[0.6,\"#e6f5d0\"],[0.7,\"#b8e186\"],[0.8,\"#7fbc41\"],[0.9,\"#4d9221\"],[1,\"#276419\"]]},\"xaxis\":{\"gridcolor\":\"white\",\"linecolor\":\"white\",\"ticks\":\"\",\"title\":{\"standoff\":15},\"zerolinecolor\":\"white\",\"automargin\":true,\"zerolinewidth\":2},\"yaxis\":{\"gridcolor\":\"white\",\"linecolor\":\"white\",\"ticks\":\"\",\"title\":{\"standoff\":15},\"zerolinecolor\":\"white\",\"automargin\":true,\"zerolinewidth\":2},\"scene\":{\"xaxis\":{\"backgroundcolor\":\"#E5ECF6\",\"gridcolor\":\"white\",\"linecolor\":\"white\",\"showbackground\":true,\"ticks\":\"\",\"zerolinecolor\":\"white\",\"gridwidth\":2},\"yaxis\":{\"backgroundcolor\":\"#E5ECF6\",\"gridcolor\":\"white\",\"linecolor\":\"white\",\"showbackground\":true,\"ticks\":\"\",\"zerolinecolor\":\"white\",\"gridwidth\":2},\"zaxis\":{\"backgroundcolor\":\"#E5ECF6\",\"gridcolor\":\"white\",\"linecolor\":\"white\",\"showbackground\":true,\"ticks\":\"\",\"zerolinecolor\":\"white\",\"gridwidth\":2}},\"shapedefaults\":{\"line\":{\"color\":\"#2a3f5f\"}},\"annotationdefaults\":{\"arrowcolor\":\"#2a3f5f\",\"arrowhead\":0,\"arrowwidth\":1},\"geo\":{\"bgcolor\":\"white\",\"landcolor\":\"#E5ECF6\",\"subunitcolor\":\"white\",\"showland\":true,\"showlakes\":true,\"lakecolor\":\"white\"},\"title\":{\"x\":0.05},\"mapbox\":{\"style\":\"light\"}}},\"xaxis\":{\"anchor\":\"y\",\"domain\":[0.0,1.0],\"scaleanchor\":\"y\",\"constrain\":\"domain\"},\"yaxis\":{\"anchor\":\"x\",\"domain\":[0.0,1.0],\"autorange\":\"reversed\",\"constrain\":\"domain\"},\"coloraxis\":{\"colorscale\":[[0.0,\"#0d0887\"],[0.1111111111111111,\"#46039f\"],[0.2222222222222222,\"#7201a8\"],[0.3333333333333333,\"#9c179e\"],[0.4444444444444444,\"#bd3786\"],[0.5555555555555556,\"#d8576b\"],[0.6666666666666666,\"#ed7953\"],[0.7777777777777778,\"#fb9f3a\"],[0.8888888888888888,\"#fdca26\"],[1.0,\"#f0f921\"]]},\"margin\":{\"t\":60},\"hovermode\":\"x\",\"autosize\":false,\"width\":1000,\"height\":800},                        {\"responsive\": true}                    ).then(function(){\n",
       "                            \n",
       "var gd = document.getElementById('c99851e7-207b-4cbf-afe2-f8b0ac6d9fb8');\n",
       "var x = new MutationObserver(function (mutations, observer) {{\n",
       "        var display = window.getComputedStyle(gd).display;\n",
       "        if (!display || display === 'none') {{\n",
       "            console.log([gd, 'removed!']);\n",
       "            Plotly.purge(gd);\n",
       "            observer.disconnect();\n",
       "        }}\n",
       "}});\n",
       "\n",
       "// Listen for the removal of the full notebook cells\n",
       "var notebookContainer = gd.closest('#notebook-container');\n",
       "if (notebookContainer) {{\n",
       "    x.observe(notebookContainer, {childList: true});\n",
       "}}\n",
       "\n",
       "// Listen for the clearing of the current output cell\n",
       "var outputEl = gd.closest('.output');\n",
       "if (outputEl) {{\n",
       "    x.observe(outputEl, {childList: true});\n",
       "}}\n",
       "\n",
       "                        })                };                });            </script>        </div>"
      ]
     },
     "metadata": {},
     "output_type": "display_data"
    }
   ],
   "source": [
    "# Correlation Analysis\n",
    "fig = px.imshow(df.corr(), text_auto=True)\n",
    "fig.update_layout(hovermode=\"x\",autosize=False, width=1000, height=800)\n",
    "fig.show()"
   ]
  },
  {
   "cell_type": "markdown",
   "id": "ef47f479",
   "metadata": {},
   "source": [
    "# Interpreting The Heatmap\n",
    "\n",
    "---\n",
    "\n",
    "* We have many features and few are well related :)) . The heatmap above is really hard to interpret because there are so many features. When making or training models, I will try to eliminate unnecessary features as it reduces training time and many other advantages.\n",
    "\n",
    "* From the heatmap above, I see that some features are not very relevant.\n",
    "\n",
    "**cigsPerDay , currentSmoker - glucose, diabetes, etc... SysBP diaBP can be said to have the highest positive correlation. (0.78 correlation + )**\n",
    "\n",
    "----"
   ]
  },
  {
   "cell_type": "markdown",
   "id": "749094c4",
   "metadata": {},
   "source": [
    "<h1><center>Feature Engineering and Data Cleaning</center></h1>\n",
    "\n",
    "---\n",
    ">> **Alright, What is Feature Engineering? Whenever we are given a dataset with features, it is not necessary that all the features will be important. There maybe be many redundant features which should be eliminated. Also we can get or add new features by observing or extracting information from other features.**"
   ]
  },
  {
   "cell_type": "code",
   "execution_count": 130,
   "id": "b31b130b",
   "metadata": {},
   "outputs": [],
   "source": [
    "# heartRate, prevalentStroke --> Since the correlation values are low, I will drop it from the dataset. \n",
    "# p-values were examined."
   ]
  },
  {
   "cell_type": "code",
   "execution_count": 131,
   "id": "4e747531",
   "metadata": {},
   "outputs": [],
   "source": [
    "df.drop(['heartRate','prevalentStroke'], axis = 1 , inplace = True)"
   ]
  },
  {
   "cell_type": "code",
   "execution_count": 132,
   "id": "0016ef32",
   "metadata": {},
   "outputs": [
    {
     "data": {
      "text/html": [
       "<div>\n",
       "<style scoped>\n",
       "    .dataframe tbody tr th:only-of-type {\n",
       "        vertical-align: middle;\n",
       "    }\n",
       "\n",
       "    .dataframe tbody tr th {\n",
       "        vertical-align: top;\n",
       "    }\n",
       "\n",
       "    .dataframe thead th {\n",
       "        text-align: right;\n",
       "    }\n",
       "</style>\n",
       "<table border=\"1\" class=\"dataframe\">\n",
       "  <thead>\n",
       "    <tr style=\"text-align: right;\">\n",
       "      <th></th>\n",
       "      <th>male</th>\n",
       "      <th>age</th>\n",
       "      <th>education</th>\n",
       "      <th>currentSmoker</th>\n",
       "      <th>cigsPerDay</th>\n",
       "      <th>BPMeds</th>\n",
       "      <th>prevalentHyp</th>\n",
       "      <th>diabetes</th>\n",
       "      <th>totChol</th>\n",
       "      <th>sysBP</th>\n",
       "      <th>diaBP</th>\n",
       "      <th>BMI</th>\n",
       "      <th>glucose</th>\n",
       "      <th>TenYearCHD</th>\n",
       "    </tr>\n",
       "  </thead>\n",
       "  <tbody>\n",
       "    <tr>\n",
       "      <th>0</th>\n",
       "      <td>1</td>\n",
       "      <td>39</td>\n",
       "      <td>4.0</td>\n",
       "      <td>0</td>\n",
       "      <td>0.0</td>\n",
       "      <td>0.0</td>\n",
       "      <td>0</td>\n",
       "      <td>0</td>\n",
       "      <td>195.0</td>\n",
       "      <td>106.0</td>\n",
       "      <td>70.0</td>\n",
       "      <td>26.97</td>\n",
       "      <td>77.0</td>\n",
       "      <td>0</td>\n",
       "    </tr>\n",
       "    <tr>\n",
       "      <th>1</th>\n",
       "      <td>0</td>\n",
       "      <td>46</td>\n",
       "      <td>2.0</td>\n",
       "      <td>0</td>\n",
       "      <td>0.0</td>\n",
       "      <td>0.0</td>\n",
       "      <td>0</td>\n",
       "      <td>0</td>\n",
       "      <td>250.0</td>\n",
       "      <td>121.0</td>\n",
       "      <td>81.0</td>\n",
       "      <td>28.73</td>\n",
       "      <td>76.0</td>\n",
       "      <td>0</td>\n",
       "    </tr>\n",
       "    <tr>\n",
       "      <th>2</th>\n",
       "      <td>1</td>\n",
       "      <td>48</td>\n",
       "      <td>1.0</td>\n",
       "      <td>1</td>\n",
       "      <td>20.0</td>\n",
       "      <td>0.0</td>\n",
       "      <td>0</td>\n",
       "      <td>0</td>\n",
       "      <td>245.0</td>\n",
       "      <td>127.5</td>\n",
       "      <td>80.0</td>\n",
       "      <td>25.34</td>\n",
       "      <td>70.0</td>\n",
       "      <td>0</td>\n",
       "    </tr>\n",
       "    <tr>\n",
       "      <th>3</th>\n",
       "      <td>0</td>\n",
       "      <td>61</td>\n",
       "      <td>3.0</td>\n",
       "      <td>1</td>\n",
       "      <td>30.0</td>\n",
       "      <td>0.0</td>\n",
       "      <td>1</td>\n",
       "      <td>0</td>\n",
       "      <td>225.0</td>\n",
       "      <td>150.0</td>\n",
       "      <td>95.0</td>\n",
       "      <td>28.58</td>\n",
       "      <td>103.0</td>\n",
       "      <td>1</td>\n",
       "    </tr>\n",
       "    <tr>\n",
       "      <th>4</th>\n",
       "      <td>0</td>\n",
       "      <td>46</td>\n",
       "      <td>3.0</td>\n",
       "      <td>1</td>\n",
       "      <td>23.0</td>\n",
       "      <td>0.0</td>\n",
       "      <td>0</td>\n",
       "      <td>0</td>\n",
       "      <td>285.0</td>\n",
       "      <td>130.0</td>\n",
       "      <td>84.0</td>\n",
       "      <td>23.10</td>\n",
       "      <td>85.0</td>\n",
       "      <td>0</td>\n",
       "    </tr>\n",
       "  </tbody>\n",
       "</table>\n",
       "</div>"
      ],
      "text/plain": [
       "   male  age  education  currentSmoker  cigsPerDay  BPMeds  prevalentHyp  \\\n",
       "0     1   39        4.0              0         0.0     0.0             0   \n",
       "1     0   46        2.0              0         0.0     0.0             0   \n",
       "2     1   48        1.0              1        20.0     0.0             0   \n",
       "3     0   61        3.0              1        30.0     0.0             1   \n",
       "4     0   46        3.0              1        23.0     0.0             0   \n",
       "\n",
       "   diabetes  totChol  sysBP  diaBP    BMI  glucose  TenYearCHD  \n",
       "0         0    195.0  106.0   70.0  26.97     77.0           0  \n",
       "1         0    250.0  121.0   81.0  28.73     76.0           0  \n",
       "2         0    245.0  127.5   80.0  25.34     70.0           0  \n",
       "3         0    225.0  150.0   95.0  28.58    103.0           1  \n",
       "4         0    285.0  130.0   84.0  23.10     85.0           0  "
      ]
     },
     "execution_count": 132,
     "metadata": {},
     "output_type": "execute_result"
    }
   ],
   "source": [
    "df.head()"
   ]
  },
  {
   "cell_type": "code",
   "execution_count": 133,
   "id": "069581ed",
   "metadata": {},
   "outputs": [
    {
     "data": {
      "text/plain": [
       "male               0\n",
       "age                0\n",
       "education        105\n",
       "currentSmoker      0\n",
       "cigsPerDay        29\n",
       "BPMeds            53\n",
       "prevalentHyp       0\n",
       "diabetes           0\n",
       "totChol           50\n",
       "sysBP              0\n",
       "diaBP              0\n",
       "BMI               19\n",
       "glucose          388\n",
       "TenYearCHD         0\n",
       "dtype: int64"
      ]
     },
     "execution_count": 133,
     "metadata": {},
     "output_type": "execute_result"
    }
   ],
   "source": [
    "# Checking for total null values for each variable\n",
    "df.isnull().sum()"
   ]
  },
  {
   "cell_type": "markdown",
   "id": "ae562f5e",
   "metadata": {},
   "source": [
    "<h1><center>Total Missing Values!</center></h1>\n",
    "\n",
    "---\n",
    "\n",
    "| education | cigsPerDay | BPMeds || totChol | BMI | glucose |\n",
    "| --- | --- | --- || --- | --- | --- |\n",
    "| 105 | 29 | 53 || 50 | 19 | 388 |\n",
    "\n",
    "\n",
    "---"
   ]
  },
  {
   "cell_type": "markdown",
   "id": "c2942834",
   "metadata": {},
   "source": [
    "---\n",
    ">> **There are blank observation units in Education, cigsPerDay, totChol, BP Meds, BMI, pulse and glucose variables. I will first examine the missing data randomness and then decide how to fix it.**.\n",
    "----\n",
    "\n",
    "### There may be various reasons responsible for why the data is missing. Depending on those reasons, it can be classified into three main types:\n",
    "---\n",
    "\n",
    "**1)** Missing completely at random (MCAR) \n",
    "\n",
    "**2)** Missing at random (MAR) \n",
    "\n",
    "**3)** Missing not at random (MNAR) \n",
    "\n",
    "It is important to identify these types of missing data since it can help us make certain assumptions about their distribution and therefore improve our chances of making good estimations.\n",
    "\n",
    "---\n"
   ]
  },
  {
   "cell_type": "code",
   "execution_count": 134,
   "id": "95aaf05e",
   "metadata": {},
   "outputs": [
    {
     "data": {
      "text/html": [
       "<div>\n",
       "<style scoped>\n",
       "    .dataframe tbody tr th:only-of-type {\n",
       "        vertical-align: middle;\n",
       "    }\n",
       "\n",
       "    .dataframe tbody tr th {\n",
       "        vertical-align: top;\n",
       "    }\n",
       "\n",
       "    .dataframe thead th {\n",
       "        text-align: right;\n",
       "    }\n",
       "</style>\n",
       "<table border=\"1\" class=\"dataframe\">\n",
       "  <thead>\n",
       "    <tr style=\"text-align: right;\">\n",
       "      <th></th>\n",
       "      <th>male</th>\n",
       "      <th>age</th>\n",
       "      <th>education</th>\n",
       "      <th>currentSmoker</th>\n",
       "      <th>cigsPerDay</th>\n",
       "      <th>BPMeds</th>\n",
       "      <th>prevalentHyp</th>\n",
       "      <th>diabetes</th>\n",
       "      <th>totChol</th>\n",
       "      <th>sysBP</th>\n",
       "      <th>diaBP</th>\n",
       "      <th>BMI</th>\n",
       "      <th>glucose</th>\n",
       "      <th>TenYearCHD</th>\n",
       "    </tr>\n",
       "  </thead>\n",
       "  <tbody>\n",
       "    <tr>\n",
       "      <th>33</th>\n",
       "      <td>1</td>\n",
       "      <td>61</td>\n",
       "      <td>NaN</td>\n",
       "      <td>1</td>\n",
       "      <td>5.0</td>\n",
       "      <td>0.0</td>\n",
       "      <td>0</td>\n",
       "      <td>0</td>\n",
       "      <td>175.0</td>\n",
       "      <td>134.0</td>\n",
       "      <td>82.5</td>\n",
       "      <td>18.59</td>\n",
       "      <td>75.0</td>\n",
       "      <td>1</td>\n",
       "    </tr>\n",
       "    <tr>\n",
       "      <th>305</th>\n",
       "      <td>1</td>\n",
       "      <td>36</td>\n",
       "      <td>NaN</td>\n",
       "      <td>1</td>\n",
       "      <td>20.0</td>\n",
       "      <td>0.0</td>\n",
       "      <td>1</td>\n",
       "      <td>0</td>\n",
       "      <td>304.0</td>\n",
       "      <td>118.0</td>\n",
       "      <td>90.0</td>\n",
       "      <td>32.63</td>\n",
       "      <td>80.0</td>\n",
       "      <td>1</td>\n",
       "    </tr>\n",
       "    <tr>\n",
       "      <th>622</th>\n",
       "      <td>0</td>\n",
       "      <td>64</td>\n",
       "      <td>NaN</td>\n",
       "      <td>0</td>\n",
       "      <td>0.0</td>\n",
       "      <td>0.0</td>\n",
       "      <td>0</td>\n",
       "      <td>0</td>\n",
       "      <td>293.0</td>\n",
       "      <td>116.0</td>\n",
       "      <td>80.0</td>\n",
       "      <td>26.81</td>\n",
       "      <td>87.0</td>\n",
       "      <td>1</td>\n",
       "    </tr>\n",
       "    <tr>\n",
       "      <th>916</th>\n",
       "      <td>1</td>\n",
       "      <td>47</td>\n",
       "      <td>NaN</td>\n",
       "      <td>1</td>\n",
       "      <td>25.0</td>\n",
       "      <td>0.0</td>\n",
       "      <td>1</td>\n",
       "      <td>0</td>\n",
       "      <td>236.0</td>\n",
       "      <td>154.0</td>\n",
       "      <td>93.0</td>\n",
       "      <td>24.49</td>\n",
       "      <td>76.0</td>\n",
       "      <td>1</td>\n",
       "    </tr>\n",
       "    <tr>\n",
       "      <th>1027</th>\n",
       "      <td>1</td>\n",
       "      <td>63</td>\n",
       "      <td>NaN</td>\n",
       "      <td>1</td>\n",
       "      <td>10.0</td>\n",
       "      <td>0.0</td>\n",
       "      <td>0</td>\n",
       "      <td>0</td>\n",
       "      <td>271.0</td>\n",
       "      <td>131.0</td>\n",
       "      <td>73.5</td>\n",
       "      <td>30.12</td>\n",
       "      <td>107.0</td>\n",
       "      <td>1</td>\n",
       "    </tr>\n",
       "    <tr>\n",
       "      <th>1253</th>\n",
       "      <td>1</td>\n",
       "      <td>50</td>\n",
       "      <td>NaN</td>\n",
       "      <td>0</td>\n",
       "      <td>0.0</td>\n",
       "      <td>0.0</td>\n",
       "      <td>0</td>\n",
       "      <td>0</td>\n",
       "      <td>200.0</td>\n",
       "      <td>126.0</td>\n",
       "      <td>88.0</td>\n",
       "      <td>26.73</td>\n",
       "      <td>76.0</td>\n",
       "      <td>1</td>\n",
       "    </tr>\n",
       "    <tr>\n",
       "      <th>1286</th>\n",
       "      <td>0</td>\n",
       "      <td>65</td>\n",
       "      <td>NaN</td>\n",
       "      <td>0</td>\n",
       "      <td>0.0</td>\n",
       "      <td>0.0</td>\n",
       "      <td>1</td>\n",
       "      <td>0</td>\n",
       "      <td>220.0</td>\n",
       "      <td>185.5</td>\n",
       "      <td>97.5</td>\n",
       "      <td>38.38</td>\n",
       "      <td>95.0</td>\n",
       "      <td>1</td>\n",
       "    </tr>\n",
       "    <tr>\n",
       "      <th>1675</th>\n",
       "      <td>1</td>\n",
       "      <td>44</td>\n",
       "      <td>NaN</td>\n",
       "      <td>1</td>\n",
       "      <td>40.0</td>\n",
       "      <td>0.0</td>\n",
       "      <td>1</td>\n",
       "      <td>0</td>\n",
       "      <td>312.0</td>\n",
       "      <td>157.0</td>\n",
       "      <td>97.0</td>\n",
       "      <td>29.91</td>\n",
       "      <td>74.0</td>\n",
       "      <td>1</td>\n",
       "    </tr>\n",
       "    <tr>\n",
       "      <th>2430</th>\n",
       "      <td>1</td>\n",
       "      <td>60</td>\n",
       "      <td>NaN</td>\n",
       "      <td>1</td>\n",
       "      <td>20.0</td>\n",
       "      <td>0.0</td>\n",
       "      <td>0</td>\n",
       "      <td>0</td>\n",
       "      <td>212.0</td>\n",
       "      <td>138.5</td>\n",
       "      <td>87.5</td>\n",
       "      <td>19.54</td>\n",
       "      <td>73.0</td>\n",
       "      <td>1</td>\n",
       "    </tr>\n",
       "    <tr>\n",
       "      <th>2669</th>\n",
       "      <td>1</td>\n",
       "      <td>55</td>\n",
       "      <td>NaN</td>\n",
       "      <td>0</td>\n",
       "      <td>0.0</td>\n",
       "      <td>0.0</td>\n",
       "      <td>0</td>\n",
       "      <td>0</td>\n",
       "      <td>222.0</td>\n",
       "      <td>129.0</td>\n",
       "      <td>86.5</td>\n",
       "      <td>33.76</td>\n",
       "      <td>92.0</td>\n",
       "      <td>1</td>\n",
       "    </tr>\n",
       "    <tr>\n",
       "      <th>2846</th>\n",
       "      <td>1</td>\n",
       "      <td>50</td>\n",
       "      <td>NaN</td>\n",
       "      <td>1</td>\n",
       "      <td>9.0</td>\n",
       "      <td>0.0</td>\n",
       "      <td>0</td>\n",
       "      <td>0</td>\n",
       "      <td>206.0</td>\n",
       "      <td>140.0</td>\n",
       "      <td>92.0</td>\n",
       "      <td>28.21</td>\n",
       "      <td>NaN</td>\n",
       "      <td>1</td>\n",
       "    </tr>\n",
       "    <tr>\n",
       "      <th>3148</th>\n",
       "      <td>1</td>\n",
       "      <td>51</td>\n",
       "      <td>NaN</td>\n",
       "      <td>0</td>\n",
       "      <td>0.0</td>\n",
       "      <td>0.0</td>\n",
       "      <td>1</td>\n",
       "      <td>0</td>\n",
       "      <td>275.0</td>\n",
       "      <td>159.0</td>\n",
       "      <td>99.0</td>\n",
       "      <td>28.57</td>\n",
       "      <td>88.0</td>\n",
       "      <td>1</td>\n",
       "    </tr>\n",
       "    <tr>\n",
       "      <th>3234</th>\n",
       "      <td>0</td>\n",
       "      <td>47</td>\n",
       "      <td>NaN</td>\n",
       "      <td>1</td>\n",
       "      <td>20.0</td>\n",
       "      <td>0.0</td>\n",
       "      <td>0</td>\n",
       "      <td>0</td>\n",
       "      <td>304.0</td>\n",
       "      <td>110.0</td>\n",
       "      <td>72.0</td>\n",
       "      <td>20.88</td>\n",
       "      <td>75.0</td>\n",
       "      <td>1</td>\n",
       "    </tr>\n",
       "    <tr>\n",
       "      <th>3310</th>\n",
       "      <td>1</td>\n",
       "      <td>48</td>\n",
       "      <td>NaN</td>\n",
       "      <td>1</td>\n",
       "      <td>40.0</td>\n",
       "      <td>0.0</td>\n",
       "      <td>0</td>\n",
       "      <td>0</td>\n",
       "      <td>247.0</td>\n",
       "      <td>133.0</td>\n",
       "      <td>77.5</td>\n",
       "      <td>33.99</td>\n",
       "      <td>95.0</td>\n",
       "      <td>1</td>\n",
       "    </tr>\n",
       "    <tr>\n",
       "      <th>3655</th>\n",
       "      <td>1</td>\n",
       "      <td>56</td>\n",
       "      <td>NaN</td>\n",
       "      <td>1</td>\n",
       "      <td>30.0</td>\n",
       "      <td>0.0</td>\n",
       "      <td>1</td>\n",
       "      <td>0</td>\n",
       "      <td>193.0</td>\n",
       "      <td>139.0</td>\n",
       "      <td>93.0</td>\n",
       "      <td>28.67</td>\n",
       "      <td>67.0</td>\n",
       "      <td>1</td>\n",
       "    </tr>\n",
       "    <tr>\n",
       "      <th>3868</th>\n",
       "      <td>1</td>\n",
       "      <td>52</td>\n",
       "      <td>NaN</td>\n",
       "      <td>0</td>\n",
       "      <td>0.0</td>\n",
       "      <td>0.0</td>\n",
       "      <td>0</td>\n",
       "      <td>1</td>\n",
       "      <td>232.0</td>\n",
       "      <td>130.0</td>\n",
       "      <td>74.0</td>\n",
       "      <td>32.52</td>\n",
       "      <td>248.0</td>\n",
       "      <td>1</td>\n",
       "    </tr>\n",
       "  </tbody>\n",
       "</table>\n",
       "</div>"
      ],
      "text/plain": [
       "      male  age  education  currentSmoker  cigsPerDay  BPMeds  prevalentHyp  \\\n",
       "33       1   61        NaN              1         5.0     0.0             0   \n",
       "305      1   36        NaN              1        20.0     0.0             1   \n",
       "622      0   64        NaN              0         0.0     0.0             0   \n",
       "916      1   47        NaN              1        25.0     0.0             1   \n",
       "1027     1   63        NaN              1        10.0     0.0             0   \n",
       "1253     1   50        NaN              0         0.0     0.0             0   \n",
       "1286     0   65        NaN              0         0.0     0.0             1   \n",
       "1675     1   44        NaN              1        40.0     0.0             1   \n",
       "2430     1   60        NaN              1        20.0     0.0             0   \n",
       "2669     1   55        NaN              0         0.0     0.0             0   \n",
       "2846     1   50        NaN              1         9.0     0.0             0   \n",
       "3148     1   51        NaN              0         0.0     0.0             1   \n",
       "3234     0   47        NaN              1        20.0     0.0             0   \n",
       "3310     1   48        NaN              1        40.0     0.0             0   \n",
       "3655     1   56        NaN              1        30.0     0.0             1   \n",
       "3868     1   52        NaN              0         0.0     0.0             0   \n",
       "\n",
       "      diabetes  totChol  sysBP  diaBP    BMI  glucose  TenYearCHD  \n",
       "33           0    175.0  134.0   82.5  18.59     75.0           1  \n",
       "305          0    304.0  118.0   90.0  32.63     80.0           1  \n",
       "622          0    293.0  116.0   80.0  26.81     87.0           1  \n",
       "916          0    236.0  154.0   93.0  24.49     76.0           1  \n",
       "1027         0    271.0  131.0   73.5  30.12    107.0           1  \n",
       "1253         0    200.0  126.0   88.0  26.73     76.0           1  \n",
       "1286         0    220.0  185.5   97.5  38.38     95.0           1  \n",
       "1675         0    312.0  157.0   97.0  29.91     74.0           1  \n",
       "2430         0    212.0  138.5   87.5  19.54     73.0           1  \n",
       "2669         0    222.0  129.0   86.5  33.76     92.0           1  \n",
       "2846         0    206.0  140.0   92.0  28.21      NaN           1  \n",
       "3148         0    275.0  159.0   99.0  28.57     88.0           1  \n",
       "3234         0    304.0  110.0   72.0  20.88     75.0           1  \n",
       "3310         0    247.0  133.0   77.5  33.99     95.0           1  \n",
       "3655         0    193.0  139.0   93.0  28.67     67.0           1  \n",
       "3868         1    232.0  130.0   74.0  32.52    248.0           1  "
      ]
     },
     "execution_count": 134,
     "metadata": {},
     "output_type": "execute_result"
    }
   ],
   "source": [
    "df[df['education'].isnull() & df['TenYearCHD']== 1]"
   ]
  },
  {
   "cell_type": "code",
   "execution_count": 135,
   "id": "c98615a8",
   "metadata": {},
   "outputs": [],
   "source": [
    "# imputation of education level"
   ]
  },
  {
   "cell_type": "code",
   "execution_count": 136,
   "id": "e04e58ea",
   "metadata": {},
   "outputs": [],
   "source": [
    "df['education'] = np.where(df['education'].isnull() & df['TenYearCHD']== 1, 1, df['education'])"
   ]
  },
  {
   "cell_type": "code",
   "execution_count": 137,
   "id": "0fca68ae",
   "metadata": {},
   "outputs": [
    {
     "data": {
      "text/plain": [
       "89"
      ]
     },
     "execution_count": 137,
     "metadata": {},
     "output_type": "execute_result"
    }
   ],
   "source": [
    "df['education'].isnull().sum()"
   ]
  },
  {
   "cell_type": "code",
   "execution_count": 138,
   "id": "22cd4026",
   "metadata": {
    "scrolled": true
   },
   "outputs": [
    {
     "data": {
      "text/html": [
       "<div>\n",
       "<style scoped>\n",
       "    .dataframe tbody tr th:only-of-type {\n",
       "        vertical-align: middle;\n",
       "    }\n",
       "\n",
       "    .dataframe tbody tr th {\n",
       "        vertical-align: top;\n",
       "    }\n",
       "\n",
       "    .dataframe thead th {\n",
       "        text-align: right;\n",
       "    }\n",
       "</style>\n",
       "<table border=\"1\" class=\"dataframe\">\n",
       "  <thead>\n",
       "    <tr style=\"text-align: right;\">\n",
       "      <th></th>\n",
       "      <th>male</th>\n",
       "      <th>age</th>\n",
       "      <th>education</th>\n",
       "      <th>currentSmoker</th>\n",
       "      <th>cigsPerDay</th>\n",
       "      <th>BPMeds</th>\n",
       "      <th>prevalentHyp</th>\n",
       "      <th>diabetes</th>\n",
       "      <th>totChol</th>\n",
       "      <th>sysBP</th>\n",
       "      <th>diaBP</th>\n",
       "      <th>BMI</th>\n",
       "      <th>glucose</th>\n",
       "      <th>TenYearCHD</th>\n",
       "    </tr>\n",
       "  </thead>\n",
       "  <tbody>\n",
       "  </tbody>\n",
       "</table>\n",
       "</div>"
      ],
      "text/plain": [
       "Empty DataFrame\n",
       "Columns: [male, age, education, currentSmoker, cigsPerDay, BPMeds, prevalentHyp, diabetes, totChol, sysBP, diaBP, BMI, glucose, TenYearCHD]\n",
       "Index: []"
      ]
     },
     "execution_count": 138,
     "metadata": {},
     "output_type": "execute_result"
    }
   ],
   "source": [
    "df[df['education'].isnull() & df['TenYearCHD']== 1]"
   ]
  },
  {
   "cell_type": "code",
   "execution_count": 139,
   "id": "a18355bc",
   "metadata": {},
   "outputs": [],
   "source": [
    "df['education'].fillna(2, inplace = True)"
   ]
  },
  {
   "cell_type": "code",
   "execution_count": 140,
   "id": "545e9ab3",
   "metadata": {},
   "outputs": [
    {
     "data": {
      "text/plain": [
       "0"
      ]
     },
     "execution_count": 140,
     "metadata": {},
     "output_type": "execute_result"
    }
   ],
   "source": [
    "df['education'].isnull().sum()"
   ]
  },
  {
   "cell_type": "markdown",
   "id": "d8dc520b",
   "metadata": {},
   "source": [
    "----\n",
    ">> **As observed above, we have assigned Class 1 status to persons with CHD Disease.**\n",
    "\n",
    ">> **We assigned class 2 status to people without CHD Disease. Because when we examined the education feature before, the probability of having CHD in class 2 status was lower than in other classes.**\n",
    "----"
   ]
  },
  {
   "cell_type": "code",
   "execution_count": 141,
   "id": "8f2e55a8",
   "metadata": {},
   "outputs": [
    {
     "data": {
      "text/plain": [
       "male             0\n",
       "age              0\n",
       "education        0\n",
       "currentSmoker    0\n",
       "cigsPerDay       0\n",
       "BPMeds           0\n",
       "prevalentHyp     0\n",
       "diabetes         0\n",
       "totChol          0\n",
       "sysBP            0\n",
       "diaBP            0\n",
       "BMI              0\n",
       "glucose          0\n",
       "TenYearCHD       0\n",
       "dtype: int64"
      ]
     },
     "execution_count": 141,
     "metadata": {},
     "output_type": "execute_result"
    }
   ],
   "source": [
    "# Imputing null values\n",
    "df['cigsPerDay'].fillna(value= round(df['cigsPerDay'].mean()), inplace=True)\n",
    "df['BPMeds'].fillna(value= float(df['BPMeds'].mode()), inplace=True)\n",
    "df['totChol'].fillna(value= round(df['totChol'].mean()), inplace=True)\n",
    "df['BMI'].fillna(value= round(df['BMI'].mean()), inplace=True)\n",
    "df['glucose'].fillna(value= round(df['glucose'].mean()), inplace=True)\n",
    "df.isnull().sum()"
   ]
  },
  {
   "cell_type": "markdown",
   "id": "2d99d76c",
   "metadata": {},
   "source": [
    "<h1><center>Model Training</center></h1>\n",
    "\n",
    "---"
   ]
  },
  {
   "cell_type": "code",
   "execution_count": 142,
   "id": "c32c0fe4",
   "metadata": {},
   "outputs": [
    {
     "data": {
      "text/html": [
       "<div>\n",
       "<style scoped>\n",
       "    .dataframe tbody tr th:only-of-type {\n",
       "        vertical-align: middle;\n",
       "    }\n",
       "\n",
       "    .dataframe tbody tr th {\n",
       "        vertical-align: top;\n",
       "    }\n",
       "\n",
       "    .dataframe thead th {\n",
       "        text-align: right;\n",
       "    }\n",
       "</style>\n",
       "<table border=\"1\" class=\"dataframe\">\n",
       "  <thead>\n",
       "    <tr style=\"text-align: right;\">\n",
       "      <th></th>\n",
       "      <th>male</th>\n",
       "      <th>age</th>\n",
       "      <th>education</th>\n",
       "      <th>currentSmoker</th>\n",
       "      <th>cigsPerDay</th>\n",
       "      <th>BPMeds</th>\n",
       "      <th>prevalentHyp</th>\n",
       "      <th>diabetes</th>\n",
       "      <th>totChol</th>\n",
       "      <th>sysBP</th>\n",
       "      <th>diaBP</th>\n",
       "      <th>BMI</th>\n",
       "      <th>glucose</th>\n",
       "    </tr>\n",
       "  </thead>\n",
       "  <tbody>\n",
       "    <tr>\n",
       "      <th>0</th>\n",
       "      <td>1</td>\n",
       "      <td>39</td>\n",
       "      <td>4.0</td>\n",
       "      <td>0</td>\n",
       "      <td>0.0</td>\n",
       "      <td>0.0</td>\n",
       "      <td>0</td>\n",
       "      <td>0</td>\n",
       "      <td>195.0</td>\n",
       "      <td>106.0</td>\n",
       "      <td>70.0</td>\n",
       "      <td>26.97</td>\n",
       "      <td>77.0</td>\n",
       "    </tr>\n",
       "    <tr>\n",
       "      <th>1</th>\n",
       "      <td>0</td>\n",
       "      <td>46</td>\n",
       "      <td>2.0</td>\n",
       "      <td>0</td>\n",
       "      <td>0.0</td>\n",
       "      <td>0.0</td>\n",
       "      <td>0</td>\n",
       "      <td>0</td>\n",
       "      <td>250.0</td>\n",
       "      <td>121.0</td>\n",
       "      <td>81.0</td>\n",
       "      <td>28.73</td>\n",
       "      <td>76.0</td>\n",
       "    </tr>\n",
       "    <tr>\n",
       "      <th>2</th>\n",
       "      <td>1</td>\n",
       "      <td>48</td>\n",
       "      <td>1.0</td>\n",
       "      <td>1</td>\n",
       "      <td>20.0</td>\n",
       "      <td>0.0</td>\n",
       "      <td>0</td>\n",
       "      <td>0</td>\n",
       "      <td>245.0</td>\n",
       "      <td>127.5</td>\n",
       "      <td>80.0</td>\n",
       "      <td>25.34</td>\n",
       "      <td>70.0</td>\n",
       "    </tr>\n",
       "    <tr>\n",
       "      <th>3</th>\n",
       "      <td>0</td>\n",
       "      <td>61</td>\n",
       "      <td>3.0</td>\n",
       "      <td>1</td>\n",
       "      <td>30.0</td>\n",
       "      <td>0.0</td>\n",
       "      <td>1</td>\n",
       "      <td>0</td>\n",
       "      <td>225.0</td>\n",
       "      <td>150.0</td>\n",
       "      <td>95.0</td>\n",
       "      <td>28.58</td>\n",
       "      <td>103.0</td>\n",
       "    </tr>\n",
       "    <tr>\n",
       "      <th>4</th>\n",
       "      <td>0</td>\n",
       "      <td>46</td>\n",
       "      <td>3.0</td>\n",
       "      <td>1</td>\n",
       "      <td>23.0</td>\n",
       "      <td>0.0</td>\n",
       "      <td>0</td>\n",
       "      <td>0</td>\n",
       "      <td>285.0</td>\n",
       "      <td>130.0</td>\n",
       "      <td>84.0</td>\n",
       "      <td>23.10</td>\n",
       "      <td>85.0</td>\n",
       "    </tr>\n",
       "  </tbody>\n",
       "</table>\n",
       "</div>"
      ],
      "text/plain": [
       "   male  age  education  currentSmoker  cigsPerDay  BPMeds  prevalentHyp  \\\n",
       "0     1   39        4.0              0         0.0     0.0             0   \n",
       "1     0   46        2.0              0         0.0     0.0             0   \n",
       "2     1   48        1.0              1        20.0     0.0             0   \n",
       "3     0   61        3.0              1        30.0     0.0             1   \n",
       "4     0   46        3.0              1        23.0     0.0             0   \n",
       "\n",
       "   diabetes  totChol  sysBP  diaBP    BMI  glucose  \n",
       "0         0    195.0  106.0   70.0  26.97     77.0  \n",
       "1         0    250.0  121.0   81.0  28.73     76.0  \n",
       "2         0    245.0  127.5   80.0  25.34     70.0  \n",
       "3         0    225.0  150.0   95.0  28.58    103.0  \n",
       "4         0    285.0  130.0   84.0  23.10     85.0  "
      ]
     },
     "execution_count": 142,
     "metadata": {},
     "output_type": "execute_result"
    }
   ],
   "source": [
    "X = df.drop(labels='TenYearCHD', axis=1)      #obtain the features from the raw data as X\n",
    "X.head()"
   ]
  },
  {
   "cell_type": "code",
   "execution_count": 143,
   "id": "ebec9111",
   "metadata": {},
   "outputs": [
    {
     "data": {
      "text/plain": [
       "0    0\n",
       "1    0\n",
       "2    0\n",
       "3    1\n",
       "4    0\n",
       "Name: TenYearCHD, dtype: int64"
      ]
     },
     "execution_count": 143,
     "metadata": {},
     "output_type": "execute_result"
    }
   ],
   "source": [
    "y = df['TenYearCHD']      #obtain the features from the raw data as X\n",
    "y.head()"
   ]
  },
  {
   "cell_type": "code",
   "execution_count": 144,
   "id": "f21d19cd",
   "metadata": {},
   "outputs": [
    {
     "data": {
      "text/html": [
       "<div>\n",
       "<style scoped>\n",
       "    .dataframe tbody tr th:only-of-type {\n",
       "        vertical-align: middle;\n",
       "    }\n",
       "\n",
       "    .dataframe tbody tr th {\n",
       "        vertical-align: top;\n",
       "    }\n",
       "\n",
       "    .dataframe thead th {\n",
       "        text-align: right;\n",
       "    }\n",
       "</style>\n",
       "<table border=\"1\" class=\"dataframe\">\n",
       "  <thead>\n",
       "    <tr style=\"text-align: right;\">\n",
       "      <th></th>\n",
       "      <th>male</th>\n",
       "      <th>age</th>\n",
       "      <th>education</th>\n",
       "      <th>currentSmoker</th>\n",
       "      <th>cigsPerDay</th>\n",
       "      <th>BPMeds</th>\n",
       "      <th>prevalentHyp</th>\n",
       "      <th>diabetes</th>\n",
       "      <th>totChol</th>\n",
       "      <th>sysBP</th>\n",
       "      <th>diaBP</th>\n",
       "      <th>BMI</th>\n",
       "      <th>glucose</th>\n",
       "    </tr>\n",
       "  </thead>\n",
       "  <tbody>\n",
       "    <tr>\n",
       "      <th>1767</th>\n",
       "      <td>0</td>\n",
       "      <td>51</td>\n",
       "      <td>2.0</td>\n",
       "      <td>0</td>\n",
       "      <td>0.0</td>\n",
       "      <td>0.0</td>\n",
       "      <td>0</td>\n",
       "      <td>0</td>\n",
       "      <td>285.0</td>\n",
       "      <td>136.5</td>\n",
       "      <td>86.5</td>\n",
       "      <td>24.81</td>\n",
       "      <td>83.0</td>\n",
       "    </tr>\n",
       "    <tr>\n",
       "      <th>2947</th>\n",
       "      <td>0</td>\n",
       "      <td>59</td>\n",
       "      <td>2.0</td>\n",
       "      <td>0</td>\n",
       "      <td>0.0</td>\n",
       "      <td>0.0</td>\n",
       "      <td>0</td>\n",
       "      <td>0</td>\n",
       "      <td>279.0</td>\n",
       "      <td>132.0</td>\n",
       "      <td>88.0</td>\n",
       "      <td>26.48</td>\n",
       "      <td>88.0</td>\n",
       "    </tr>\n",
       "    <tr>\n",
       "      <th>888</th>\n",
       "      <td>1</td>\n",
       "      <td>57</td>\n",
       "      <td>1.0</td>\n",
       "      <td>1</td>\n",
       "      <td>10.0</td>\n",
       "      <td>0.0</td>\n",
       "      <td>1</td>\n",
       "      <td>0</td>\n",
       "      <td>206.0</td>\n",
       "      <td>141.0</td>\n",
       "      <td>83.0</td>\n",
       "      <td>27.98</td>\n",
       "      <td>69.0</td>\n",
       "    </tr>\n",
       "    <tr>\n",
       "      <th>2026</th>\n",
       "      <td>1</td>\n",
       "      <td>35</td>\n",
       "      <td>2.0</td>\n",
       "      <td>1</td>\n",
       "      <td>3.0</td>\n",
       "      <td>0.0</td>\n",
       "      <td>1</td>\n",
       "      <td>0</td>\n",
       "      <td>282.0</td>\n",
       "      <td>111.0</td>\n",
       "      <td>84.0</td>\n",
       "      <td>29.42</td>\n",
       "      <td>82.0</td>\n",
       "    </tr>\n",
       "    <tr>\n",
       "      <th>2696</th>\n",
       "      <td>0</td>\n",
       "      <td>43</td>\n",
       "      <td>1.0</td>\n",
       "      <td>1</td>\n",
       "      <td>15.0</td>\n",
       "      <td>0.0</td>\n",
       "      <td>0</td>\n",
       "      <td>0</td>\n",
       "      <td>315.0</td>\n",
       "      <td>132.5</td>\n",
       "      <td>76.5</td>\n",
       "      <td>31.54</td>\n",
       "      <td>82.0</td>\n",
       "    </tr>\n",
       "    <tr>\n",
       "      <th>...</th>\n",
       "      <td>...</td>\n",
       "      <td>...</td>\n",
       "      <td>...</td>\n",
       "      <td>...</td>\n",
       "      <td>...</td>\n",
       "      <td>...</td>\n",
       "      <td>...</td>\n",
       "      <td>...</td>\n",
       "      <td>...</td>\n",
       "      <td>...</td>\n",
       "      <td>...</td>\n",
       "      <td>...</td>\n",
       "      <td>...</td>\n",
       "    </tr>\n",
       "    <tr>\n",
       "      <th>3518</th>\n",
       "      <td>1</td>\n",
       "      <td>36</td>\n",
       "      <td>2.0</td>\n",
       "      <td>0</td>\n",
       "      <td>0.0</td>\n",
       "      <td>0.0</td>\n",
       "      <td>0</td>\n",
       "      <td>0</td>\n",
       "      <td>197.0</td>\n",
       "      <td>115.0</td>\n",
       "      <td>65.0</td>\n",
       "      <td>20.42</td>\n",
       "      <td>77.0</td>\n",
       "    </tr>\n",
       "    <tr>\n",
       "      <th>3040</th>\n",
       "      <td>1</td>\n",
       "      <td>57</td>\n",
       "      <td>1.0</td>\n",
       "      <td>0</td>\n",
       "      <td>0.0</td>\n",
       "      <td>0.0</td>\n",
       "      <td>1</td>\n",
       "      <td>0</td>\n",
       "      <td>287.0</td>\n",
       "      <td>149.0</td>\n",
       "      <td>86.0</td>\n",
       "      <td>26.33</td>\n",
       "      <td>65.0</td>\n",
       "    </tr>\n",
       "    <tr>\n",
       "      <th>2561</th>\n",
       "      <td>0</td>\n",
       "      <td>45</td>\n",
       "      <td>4.0</td>\n",
       "      <td>0</td>\n",
       "      <td>0.0</td>\n",
       "      <td>0.0</td>\n",
       "      <td>0</td>\n",
       "      <td>0</td>\n",
       "      <td>253.0</td>\n",
       "      <td>135.0</td>\n",
       "      <td>85.0</td>\n",
       "      <td>24.35</td>\n",
       "      <td>84.0</td>\n",
       "    </tr>\n",
       "    <tr>\n",
       "      <th>3824</th>\n",
       "      <td>0</td>\n",
       "      <td>39</td>\n",
       "      <td>3.0</td>\n",
       "      <td>1</td>\n",
       "      <td>8.0</td>\n",
       "      <td>0.0</td>\n",
       "      <td>0</td>\n",
       "      <td>0</td>\n",
       "      <td>192.0</td>\n",
       "      <td>109.0</td>\n",
       "      <td>61.0</td>\n",
       "      <td>23.36</td>\n",
       "      <td>84.0</td>\n",
       "    </tr>\n",
       "    <tr>\n",
       "      <th>2273</th>\n",
       "      <td>0</td>\n",
       "      <td>45</td>\n",
       "      <td>1.0</td>\n",
       "      <td>0</td>\n",
       "      <td>0.0</td>\n",
       "      <td>0.0</td>\n",
       "      <td>0</td>\n",
       "      <td>0</td>\n",
       "      <td>285.0</td>\n",
       "      <td>107.5</td>\n",
       "      <td>80.0</td>\n",
       "      <td>28.06</td>\n",
       "      <td>82.0</td>\n",
       "    </tr>\n",
       "  </tbody>\n",
       "</table>\n",
       "<p>3390 rows × 13 columns</p>\n",
       "</div>"
      ],
      "text/plain": [
       "      male  age  education  currentSmoker  cigsPerDay  BPMeds  prevalentHyp  \\\n",
       "1767     0   51        2.0              0         0.0     0.0             0   \n",
       "2947     0   59        2.0              0         0.0     0.0             0   \n",
       "888      1   57        1.0              1        10.0     0.0             1   \n",
       "2026     1   35        2.0              1         3.0     0.0             1   \n",
       "2696     0   43        1.0              1        15.0     0.0             0   \n",
       "...    ...  ...        ...            ...         ...     ...           ...   \n",
       "3518     1   36        2.0              0         0.0     0.0             0   \n",
       "3040     1   57        1.0              0         0.0     0.0             1   \n",
       "2561     0   45        4.0              0         0.0     0.0             0   \n",
       "3824     0   39        3.0              1         8.0     0.0             0   \n",
       "2273     0   45        1.0              0         0.0     0.0             0   \n",
       "\n",
       "      diabetes  totChol  sysBP  diaBP    BMI  glucose  \n",
       "1767         0    285.0  136.5   86.5  24.81     83.0  \n",
       "2947         0    279.0  132.0   88.0  26.48     88.0  \n",
       "888          0    206.0  141.0   83.0  27.98     69.0  \n",
       "2026         0    282.0  111.0   84.0  29.42     82.0  \n",
       "2696         0    315.0  132.5   76.5  31.54     82.0  \n",
       "...        ...      ...    ...    ...    ...      ...  \n",
       "3518         0    197.0  115.0   65.0  20.42     77.0  \n",
       "3040         0    287.0  149.0   86.0  26.33     65.0  \n",
       "2561         0    253.0  135.0   85.0  24.35     84.0  \n",
       "3824         0    192.0  109.0   61.0  23.36     84.0  \n",
       "2273         0    285.0  107.5   80.0  28.06     82.0  \n",
       "\n",
       "[3390 rows x 13 columns]"
      ]
     },
     "execution_count": 144,
     "metadata": {},
     "output_type": "execute_result"
    }
   ],
   "source": [
    "X_train, X_test, y_train, y_test = train_test_split(\n",
    "     X, y,shuffle= True, stratify =y, test_size=0.2, random_state=42)\n",
    "X_train"
   ]
  },
  {
   "cell_type": "code",
   "execution_count": 145,
   "id": "f155cf64",
   "metadata": {},
   "outputs": [
    {
     "name": "stdout",
     "output_type": "stream",
     "text": [
      "CPU times: user 4.36 ms, sys: 1.73 ms, total: 6.09 ms\n",
      "Wall time: 4.86 ms\n"
     ]
    }
   ],
   "source": [
    "scale_minmax = MinMaxScaler()\n",
    "%time X_train_scaled = scale_minmax.fit_transform(X_train)\n",
    "X_test_scaled = scale_minmax.transform(X_test)"
   ]
  },
  {
   "cell_type": "markdown",
   "id": "112cbb53",
   "metadata": {},
   "source": [
    "-----"
   ]
  },
  {
   "cell_type": "markdown",
   "id": "137fffe4",
   "metadata": {},
   "source": [
    "# Model evaluation"
   ]
  },
  {
   "cell_type": "code",
   "execution_count": 146,
   "id": "ea162878",
   "metadata": {},
   "outputs": [
    {
     "data": {
      "text/plain": [
       "[('SVC', SVC()),\n",
       " ('Logistic Regression', LogisticRegression()),\n",
       " ('KNN Classifier', KNeighborsClassifier()),\n",
       " ('Random Forest Classifier', RandomForestClassifier()),\n",
       " ('Decision Tree Classifier', DecisionTreeClassifier()),\n",
       " ('Naive bayes', GaussianNB())]"
      ]
     },
     "execution_count": 146,
     "metadata": {},
     "output_type": "execute_result"
    }
   ],
   "source": [
    "algs = []\n",
    "\n",
    "algs.append(('SVC', SVC()))\n",
    "algs.append(('Logistic Regression',LogisticRegression()))\n",
    "algs.append(('KNN Classifier',KNeighborsClassifier()))\n",
    "algs.append(('Random Forest Classifier',RandomForestClassifier()))\n",
    "algs.append(('Decision Tree Classifier',DecisionTreeClassifier()))\n",
    "algs.append(('Naive bayes',GaussianNB()))\n",
    "algs"
   ]
  },
  {
   "cell_type": "code",
   "execution_count": 147,
   "id": "2ec8331c",
   "metadata": {},
   "outputs": [
    {
     "name": "stdout",
     "output_type": "stream",
     "text": [
      "CPU times: user 289 ms, sys: 6.03 ms, total: 295 ms\n",
      "Wall time: 295 ms\n",
      "SVC Accuracy Score :  0.847877358490566\n",
      "SVC F1 Score :  0.7803109091419449\n",
      "-----------------------------------------------------------------------\n",
      "CPU times: user 433 ms, sys: 10.3 ms, total: 443 ms\n",
      "Wall time: 41.1 ms\n",
      "Logistic Regression Accuracy Score :  0.8490566037735849\n",
      "Logistic Regression F1 Score :  0.7852084731321289\n",
      "-----------------------------------------------------------------------\n",
      "CPU times: user 42.6 ms, sys: 5.81 ms, total: 48.4 ms\n",
      "Wall time: 4.75 ms\n",
      "KNN Classifier Accuracy Score :  0.8301886792452831\n",
      "KNN Classifier F1 Score :  0.7882379685222578\n",
      "-----------------------------------------------------------------------\n",
      "CPU times: user 1.55 s, sys: 29.1 ms, total: 1.58 s\n",
      "Wall time: 356 ms\n",
      "Random Forest Classifier Accuracy Score :  0.8408018867924528\n",
      "Random Forest Classifier F1 Score :  0.7845688050650053\n",
      "-----------------------------------------------------------------------\n",
      "CPU times: user 14 ms, sys: 455 µs, total: 14.5 ms\n",
      "Wall time: 14.3 ms\n",
      "Decision Tree Classifier Accuracy Score :  0.7464622641509434\n",
      "Decision Tree Classifier F1 Score :  0.7499369677118912\n",
      "-----------------------------------------------------------------------\n",
      "CPU times: user 1.86 ms, sys: 309 µs, total: 2.17 ms\n",
      "Wall time: 2.14 ms\n",
      "Naive bayes Accuracy Score :  0.7995283018867925\n",
      "Naive bayes F1 Score :  0.7808860550272085\n",
      "-----------------------------------------------------------------------\n"
     ]
    }
   ],
   "source": [
    "for name, model in algs:\n",
    "\n",
    "    %time model.fit(X_train, y_train)\n",
    "    print(name ,'Accuracy Score : ',accuracy_score(y_test, model.predict(X_test)))\n",
    "    print(name ,'F1 Score : ',f1_score(y_test, model.predict(X_test), average='weighted'))\n",
    "    print('-----------------------------------------------------------------------')"
   ]
  }
 ],
 "metadata": {
  "kernelspec": {
   "display_name": "Python 3 (ipykernel)",
   "language": "python",
   "name": "python3"
  },
  "language_info": {
   "codemirror_mode": {
    "name": "ipython",
    "version": 3
   },
   "file_extension": ".py",
   "mimetype": "text/x-python",
   "name": "python",
   "nbconvert_exporter": "python",
   "pygments_lexer": "ipython3",
   "version": "3.9.7"
  }
 },
 "nbformat": 4,
 "nbformat_minor": 5
}
